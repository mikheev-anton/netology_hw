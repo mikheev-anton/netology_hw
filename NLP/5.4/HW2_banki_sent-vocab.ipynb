{
 "cells": [
  {
   "cell_type": "code",
   "execution_count": 1,
   "metadata": {},
   "outputs": [],
   "source": [
    "import json\n",
    "\n",
    "import bz2\n",
    "import regex\n",
    "from tqdm import tqdm\n",
    "from scipy import sparse"
   ]
  },
  {
   "cell_type": "code",
   "execution_count": 2,
   "metadata": {},
   "outputs": [
    {
     "name": "stdout",
     "output_type": "stream",
     "text": [
      "Populating the interactive namespace from numpy and matplotlib\n"
     ]
    }
   ],
   "source": [
    "import pandas as pd\n",
    "import numpy as np\n",
    "import nltk\n",
    "import matplotlib.pyplot as plt\n",
    "import seaborn as sns\n",
    "%matplotlib inline\n",
    "%pylab inline"
   ]
  },
  {
   "cell_type": "code",
   "execution_count": 4,
   "metadata": {
    "scrolled": true
   },
   "outputs": [
    {
     "name": "stderr",
     "output_type": "stream",
     "text": [
      "201030it [02:45, 1218.15it/s]\n"
     ]
    }
   ],
   "source": [
    "responses = []\n",
    "with bz2.BZ2File('../data/banki_responses.json.bz2', 'r') as thefile:\n",
    "    for row in tqdm(thefile):\n",
    "        resp = json.loads(row)\n",
    "        if not resp['rating_not_checked'] and (len(resp['text'].split()) > 0):\n",
    "            responses.append(resp)"
   ]
  },
  {
   "cell_type": "markdown",
   "metadata": {},
   "source": [
    "#  Домашнее задание по NLP # 2 [100 баллов] \n",
    "## Составление словарей для классификации по тональности\n",
    "При классификации текстов или предложений по тональности необходимо использовать оценочные словари для предметной области, то есть, такие словари, в которых содержатся отрицательные и позитивные слова для какой-то предметной области. Идея подобных словарей основана на следующих наблюдениях: во-первых, для разных товаров используются разные оценочные слова (например бывает “захватывающая книга”, но не бывает “захватывающих лыж”), во-вторых, в контексте разных товаров одни и те же слова могут иметь разную окраску (слово “тормоз” в отзыве на велосипед имеет нейтральную окраску, в отзыве на компьютер – резко негативную, “пыль” в контексте пылесосов – нейтральную, в контексте кофемолок – положительную (“мелкий помол в пыль”)). Еще один пример: \"теплое пиво\" – это плохо, а \"теплый свитер\" – это хорошо.  \n",
    "\n",
    "Составление таких словарей в ручную – трудоемкий процесс, но, к счастью, его не сложно автоматизировать, если собрать достаточно большие корпуса отзывов. В этом домашнем задании вам предстоит попробовать реализовать один их подходов к составлению оценочных словарей, основанный на статье Inducing Domain-Specific Sentiment Lexicons from Unlabeled Corpora (https://nlp.stanford.edu/pubs/hamilton2016inducing.pdf).\n",
    "\n",
    "\n",
    "Данные для задания – уже знакомые вам отзывы на банки, собранные с нескольких сайтов Рунета. Отзывы могут быть как положительными (оценка 5), так и отрицательными (оценка 1)."
   ]
  },
  {
   "cell_type": "code",
   "execution_count": 5,
   "metadata": {},
   "outputs": [
    {
     "data": {
      "text/plain": [
       "{'author': 'ronnichka',\n",
       " 'bank_license': 'лицензия № 880',\n",
       " 'bank_name': 'Югра',\n",
       " 'city': 'г. Саратов',\n",
       " 'datetime': '2015-06-03 20:56:57',\n",
       " 'num_comments': 0,\n",
       " 'rating_grade': 3,\n",
       " 'rating_not_checked': False,\n",
       " 'text': 'Здравствуйте! Хотела написать, что мне месяц не выдают карту ко вкладу, ссылаясь на \"нам же их из Самары везут\" (на секундочку 5 часов езды от нашего города). Но! Прочитала, что людям 3,5 месяцев не выдают карту, и поняла, что у меня все хорошо, пока что. И подарок мне дали, и кулер в отделении есть. Так что я, конечно, готова ждать. Правда хотелось бы не очень долго.',\n",
       " 'title': 'Карта ко вкладу'}"
      ]
     },
     "execution_count": 5,
     "metadata": {},
     "output_type": "execute_result"
    }
   ],
   "source": [
    "responses[99]"
   ]
  },
  {
   "cell_type": "markdown",
   "metadata": {},
   "source": [
    "## Часть 1. Обучение модели word2vec [50 баллов]\n",
    "\n",
    "1. Разбейте всю коллекцию отзывов на предложения. Лемматизируйте все слова. \n",
    "2. Обучите по коллекции предложений word2vec\n",
    "3. Приведите несколько удачных и неудачных примеров решения стандартных текстов для word2vec:\n",
    "    * тест на определение ближайших слов\n",
    "    * тест на аналогии (мужчина – король : женщина – королева)\n",
    "    * тест на определение лишнего слова.\n",
    "    \n",
    "4. Постройте несколько визуализаций:\n",
    "    * TSNE для топ-100 (или топ-500) слов и найдите осмысленные кластеры слов\n",
    "    * задайте координаты для нового пространства следующим образом: одна  ось описывает отношение \"плохо – хорошо\", вторая – \"медленно – быстро\" и найдите координаты названий банков в этих координатах.  Более формально:\n",
    "    берем вектор слова \"хорошо\", вычитаем из него вектор слова \"плохо\", получаем новый вектор, который описывает разницу между хорошими и плохими словами. Берем вектор слова \"сбербанк\" и умножаем его на этот новый вектор – получаем координату по первой оси. Аналогично – для второй оси. Две координаты уже можно нарисовать на плоскости.  \n",
    " \n",
    "\n",
    "\n",
    "Ссылка на примеры визуализаций: https://towardsdatascience.com/game-of-thrones-word-embeddings-does-r-l-j-part-2-30290b1c0b4b"
   ]
  },
  {
   "cell_type": "markdown",
   "metadata": {},
   "source": [
    "Превый пункт уже делался, поэтому загружу файлик :)"
   ]
  },
  {
   "cell_type": "code",
   "execution_count": 68,
   "metadata": {},
   "outputs": [],
   "source": [
    "from gensim.models import Word2Vec\n",
    "from gensim.models.phrases import Phrases, Phraser\n",
    "\n",
    "from nltk import FreqDist\n",
    "\n",
    "from sklearn.manifold import TSNE"
   ]
  },
  {
   "cell_type": "code",
   "execution_count": 14,
   "metadata": {},
   "outputs": [
    {
     "name": "stderr",
     "output_type": "stream",
     "text": [
      "/home/anton/anaconda3/lib/python3.6/site-packages/pandas/core/series.py:2890: FutureWarning: from_csv is deprecated. Please use read_csv(...) instead. Note that some of the default arguments are different, so please refer to the documentation for from_csv when changing your function calls\n",
      "  infer_datetime_format=infer_datetime_format)\n"
     ]
    }
   ],
   "source": [
    "lem_text = pd.Series.from_csv('../5.3/lem.csv')"
   ]
  },
  {
   "cell_type": "code",
   "execution_count": 15,
   "metadata": {},
   "outputs": [
    {
     "data": {
      "text/plain": [
       "0    добрый день являться клиент банк поручитель кр...\n",
       "1    добрый день являться держатель зарплатной карт...\n",
       "2    здравствовать дублировать свой заявление можай...\n",
       "3    добрый день открывать расчетный счет сбербанк ...\n",
       "4    г взять кредит ваш банк заявлять я сумма рубль...\n",
       "dtype: object"
      ]
     },
     "execution_count": 15,
     "metadata": {},
     "output_type": "execute_result"
    }
   ],
   "source": [
    "lem_text.head()"
   ]
  },
  {
   "cell_type": "code",
   "execution_count": 17,
   "metadata": {},
   "outputs": [],
   "source": [
    "texts = [str(text).split() for text in lem_text.values]"
   ]
  },
  {
   "cell_type": "code",
   "execution_count": 21,
   "metadata": {},
   "outputs": [
    {
     "name": "stdout",
     "output_type": "stream",
     "text": [
      "CPU times: user 7min 45s, sys: 1.73 s, total: 7min 47s\n",
      "Wall time: 2min 8s\n"
     ]
    }
   ],
   "source": [
    "%%time\n",
    "model = Word2Vec(texts, size=100, window=5, min_count=5, workers=4)\n",
    "model.save(\"w2v.model\")"
   ]
  },
  {
   "cell_type": "code",
   "execution_count": 26,
   "metadata": {},
   "outputs": [
    {
     "data": {
      "text/plain": [
       "31905"
      ]
     },
     "execution_count": 26,
     "metadata": {},
     "output_type": "execute_result"
    }
   ],
   "source": [
    "len(model.wv.vocab)"
   ]
  },
  {
   "cell_type": "code",
   "execution_count": 29,
   "metadata": {},
   "outputs": [
    {
     "name": "stdout",
     "output_type": "stream",
     "text": [
      "CPU times: user 2min 39s, sys: 1.18 s, total: 2min 40s\n",
      "Wall time: 2min 40s\n"
     ]
    }
   ],
   "source": [
    "%%time\n",
    "texts_big = Phraser(Phrases(texts))[texts]"
   ]
  },
  {
   "cell_type": "code",
   "execution_count": 31,
   "metadata": {},
   "outputs": [
    {
     "name": "stdout",
     "output_type": "stream",
     "text": [
      "CPU times: user 16min 34s, sys: 2.25 s, total: 16min 36s\n",
      "Wall time: 12min 39s\n"
     ]
    }
   ],
   "source": [
    "%%time\n",
    "model_big = Word2Vec(texts_big, size=100, window=5, min_count=5, workers=4)\n",
    "model_big.save(\"w2v_big.model\")"
   ]
  },
  {
   "cell_type": "code",
   "execution_count": 34,
   "metadata": {},
   "outputs": [
    {
     "data": {
      "text/plain": [
       "58641"
      ]
     },
     "execution_count": 34,
     "metadata": {},
     "output_type": "execute_result"
    }
   ],
   "source": [
    "len(model_big.wv.vocab)"
   ]
  },
  {
   "cell_type": "code",
   "execution_count": 45,
   "metadata": {},
   "outputs": [],
   "source": [
    "def print_(word):\n",
    "    print('UNI : {},\\n\\nBIG : {}'.format(model.wv.most_similar(word), model_big.wv.most_similar(word)))"
   ]
  },
  {
   "cell_type": "code",
   "execution_count": 46,
   "metadata": {},
   "outputs": [
    {
     "name": "stdout",
     "output_type": "stream",
     "text": [
      "UNI : [('сб', 0.7516554594039917), ('сбер', 0.6480346918106079), ('мкб', 0.5781230330467224), ('сбера', 0.5365850925445557), ('ситибанк', 0.5300406217575073), ('банк', 0.5152191519737244), ('сбрф', 0.5103400945663452), ('втб', 0.4963844418525696), ('сбербан', 0.49610623717308044), ('бербанк', 0.49432459473609924)],\n",
      "\n",
      "BIG : [('сбер', 0.7198205590248108), ('сб', 0.6997919678688049), ('сб_рф', 0.6933146715164185), ('сбербанк_россия', 0.6746518611907959), ('сбера', 0.6048690676689148), ('втб', 0.562198281288147), ('сбрф', 0.521271288394928), ('банк', 0.5053238272666931), ('росбанк', 0.4842990040779114), ('райффайзенбанк', 0.4833275377750397)]\n"
     ]
    }
   ],
   "source": [
    "print_(\"сбербанк\")"
   ]
  },
  {
   "cell_type": "code",
   "execution_count": 47,
   "metadata": {},
   "outputs": [
    {
     "name": "stdout",
     "output_type": "stream",
     "text": [
      "UNI : [('втб', 0.7682187557220459), ('юникредитбанк', 0.7616987228393555), ('ситибанк', 0.7469537258148193), ('москомприватбанк', 0.7413894534111023), ('бинбанк', 0.7298616170883179), ('юникредит', 0.729388952255249), ('промсвязьбанк', 0.7153421640396118), ('транскредитбанк', 0.6980189085006714), ('аба', 0.6881154775619507), ('росбанк', 0.6832863092422485)],\n",
      "\n",
      "BIG : [('ситибанк', 0.7869207859039307), ('псб', 0.7396976947784424), ('росбанк', 0.7315109968185425), ('втб', 0.7314894199371338), ('промсвязьбанк', 0.7184608578681946), ('райфа', 0.7068930268287659), ('бинбанк', 0.70298171043396), ('юникредитбанк', 0.7001674771308899), ('райффайзен', 0.671771228313446), ('юникредит', 0.6706236004829407)]\n"
     ]
    }
   ],
   "source": [
    "print_('райффайзенбанк')"
   ]
  },
  {
   "cell_type": "code",
   "execution_count": 53,
   "metadata": {},
   "outputs": [
    {
     "data": {
      "text/plain": [
       "[('щелково', 0.7796564102172852),\n",
       " ('космонавт', 0.7786122560501099),\n",
       " ('балашиха', 0.7745311856269836),\n",
       " ('подольск', 0.7682805061340332),\n",
       " ('электросталь', 0.7648729085922241),\n",
       " ('академик', 0.76314377784729),\n",
       " ('лобня', 0.7631233930587769),\n",
       " ('колпино', 0.7628453969955444),\n",
       " ('реутов', 0.7611534595489502),\n",
       " ('мытищи', 0.7608277797698975)]"
      ]
     },
     "execution_count": 53,
     "metadata": {},
     "output_type": "execute_result"
    }
   ],
   "source": [
    "model.wv.most_similar(positive=[\"женщина\",\"королева\"], negative=[\"мужчина\"])"
   ]
  },
  {
   "cell_type": "code",
   "execution_count": 54,
   "metadata": {},
   "outputs": [
    {
     "data": {
      "text/plain": [
       "[('пушкин', 0.7995231747627258),\n",
       " ('н_новгород', 0.7876195907592773),\n",
       " ('космонавт', 0.7842576503753662),\n",
       " ('г_иваново', 0.7803220748901367),\n",
       " ('энгельс', 0.7773187160491943),\n",
       " ('чехов', 0.774867594242096),\n",
       " ('владимирский', 0.7732553482055664),\n",
       " ('г_рязань', 0.7704389095306396),\n",
       " ('г_кемерово', 0.7670601010322571),\n",
       " ('ореховый_зуево', 0.7641906142234802)]"
      ]
     },
     "execution_count": 54,
     "metadata": {},
     "output_type": "execute_result"
    }
   ],
   "source": [
    "model_big.wv.most_similar(positive=[\"женщина\",\"королева\"], negative=[\"мужчина\"])"
   ]
  },
  {
   "cell_type": "markdown",
   "metadata": {},
   "source": [
    "В данном корпусе королева это город Каралев."
   ]
  },
  {
   "cell_type": "code",
   "execution_count": 56,
   "metadata": {},
   "outputs": [
    {
     "data": {
      "text/plain": [
       "[('яблоня', 0.6967838406562805),\n",
       " ('вольготно', 0.6953414678573608),\n",
       " ('отрадно', 0.695289134979248),\n",
       " ('талант', 0.6927050352096558),\n",
       " ('жесткость', 0.6888585686683655),\n",
       " ('сука', 0.6852403283119202),\n",
       " ('тоскливо', 0.6836239695549011),\n",
       " ('смирно', 0.6829848885536194),\n",
       " ('неочевидно', 0.6828147768974304),\n",
       " ('смуглый', 0.6827927231788635)]"
      ]
     },
     "execution_count": 56,
     "metadata": {},
     "output_type": "execute_result"
    }
   ],
   "source": [
    "model.wv.most_similar(positive=[\"мужчина\",\"король\"], negative=[\"женщина\"])"
   ]
  },
  {
   "cell_type": "code",
   "execution_count": 59,
   "metadata": {},
   "outputs": [
    {
     "data": {
      "text/plain": [
       "[('макияж', 0.7757572531700134),\n",
       " ('пуховик', 0.7638533711433411),\n",
       " ('гроб', 0.7539509534835815),\n",
       " ('вонь', 0.7484167814254761),\n",
       " ('коричневый', 0.7474521398544312),\n",
       " ('плитка', 0.7442253232002258),\n",
       " ('обезьяна', 0.7415094971656799),\n",
       " ('дресскод', 0.7369541525840759),\n",
       " ('локоть', 0.7349363565444946),\n",
       " ('слон', 0.7347031831741333)]"
      ]
     },
     "execution_count": 59,
     "metadata": {},
     "output_type": "execute_result"
    }
   ],
   "source": [
    "model_big.wv.most_similar(positive=[\"мужчина\",\"король\"], negative=[\"женщина\"])"
   ]
  },
  {
   "cell_type": "code",
   "execution_count": 60,
   "metadata": {},
   "outputs": [
    {
     "data": {
      "text/plain": [
       "'счет'"
      ]
     },
     "execution_count": 60,
     "metadata": {},
     "output_type": "execute_result"
    }
   ],
   "source": [
    "model.wv.doesnt_match(\"кредит счет машина ссуда\".split())"
   ]
  },
  {
   "cell_type": "code",
   "execution_count": 62,
   "metadata": {},
   "outputs": [
    {
     "data": {
      "text/plain": [
       "'кость'"
      ]
     },
     "execution_count": 62,
     "metadata": {},
     "output_type": "execute_result"
    }
   ],
   "source": [
    "model.wv.doesnt_match(\"втб юникредитбанк ситибанк кость москомприватбанк бинбанк юникредит промсвязьбанк\".split())"
   ]
  },
  {
   "cell_type": "code",
   "execution_count": 72,
   "metadata": {},
   "outputs": [
    {
     "name": "stdout",
     "output_type": "stream",
     "text": [
      "['банк', 'карта', 'деньги', 'день', 'мой', 'кредит', 'который', 'отделение', 'клиент', 'сотрудник', 'счет', 'сказать', 'сумма', 'получать', 'заявление', 'год', 'свой', 'вопрос', 'время', 'мочь', 'такой', 'кредитный', 'приходить', 'ответ', 'вклад', 'офис', 'данный', 'телефон', 'платеж', 'договор', 'ваш', 'номер', 'звонить', 'банкомат', 'сбербанк', 'очень', 'позвонить', 'г', 'месяц', 'написать', 'проблема', 'обращаться', 'другой', 'решать', 'работать', 'какой', 'средство', 'рубль', 'работа', 'документ', 'ситуация', 'звонок', 'отвечать', 'говорить', 'один', 'человек', 'хотеть', 'операция', 'почему', 'давать', 'информация', 'сообщать', 'сделать', 'смс', 'оформлять', 'срок', 'услуга', 'быть', 'просто', 'знать', 'должный', 'заявка', 'банка', 'обслуживание', 'очередь', 'минута', 'сегодня', 'девушка', 'первый', 'ждать', 'сайт', 'руб', 'претензия', 'просить', 'новый', 'интернет', 'процент', 'принимать', 'снимать', 'тот', 'выдавать', 'неделя', 'этот', 'открывать', 'никакой', 'оператор', 'являться', 'я', 'понимать', 'становиться', 'закрывать', 'предлагать', 'оплачивать', 'проходить', 'час', 'несколько', 'перевод', 'писать', 'оказываться', 'нужно', 'комиссия', 'самый', 'е', 'хотя', 'иметь', 'объяснять', 'пользоваться', 'условие', 'следующий', 'центр', 'момент', 'задолженность', 'узнавать', 'взять', 'случай', 'указывать', 'течение', 'приходиться', 'вообще', 'делать', 'сразу', 'вс', 'дело', 'никто', 'решение', 'служба', 'вносить', 'специалист', 'система', 'начинать', 'спрашивать', 'денежный', 'обращение', 'отзыв', 'отправлять', 'адрес', 'смочь', 'москва', 'оплата', 'итог', 'менеджер', 'нужный', 'весь', 'сам', 'каждый', 'предоставлять', 'поступать', 'данные', 'пока', 'р', 'касса', 'происходить', 'история', 'общий', 'думать', 'оставаться', 'слово', 'второй', 'вернуть', 'погашение', 'добрый', 'отношение', 'разбираться', 'брать', 'альфа', 'идти', 'поддержка', 'приезжать', 'последний', 'попросить', 'получение', 'лицо', 'спасибо', 'оставлять', 'находиться', 'письмо', 'уточнять', 'наш', 'мы', 'лимит', 'платить', 'дата', 'линия', 'рабочий', 'связь', 'помогать', 'возможность', 'отказываться', 'причина', 'два']\n"
     ]
    }
   ],
   "source": [
    "top_words = []\n",
    "fd = FreqDist()\n",
    "for text in texts:\n",
    "    fd.update(text)\n",
    "for i in fd.most_common(200):\n",
    "    top_words.append(i[0])\n",
    "print(top_words)"
   ]
  },
  {
   "cell_type": "code",
   "execution_count": 73,
   "metadata": {},
   "outputs": [
    {
     "name": "stderr",
     "output_type": "stream",
     "text": [
      "/home/anton/anaconda3/lib/python3.6/site-packages/ipykernel_launcher.py:2: DeprecationWarning: Call to deprecated `__getitem__` (Method will be removed in 4.0.0, use self.wv.__getitem__() instead).\n",
      "  \n"
     ]
    }
   ],
   "source": [
    "tsne = TSNE(n_components=2, random_state=0)\n",
    "top_words_tsne = tsne.fit_transform(model[top_words])"
   ]
  },
  {
   "cell_type": "code",
   "execution_count": 76,
   "metadata": {},
   "outputs": [
    {
     "data": {
      "text/html": [
       "\n",
       "    <div class=\"bk-root\">\n",
       "        <a href=\"https://bokeh.pydata.org\" target=\"_blank\" class=\"bk-logo bk-logo-small bk-logo-notebook\"></a>\n",
       "        <span id=\"a626c64f-9d09-4698-877d-9f2f5ce3a651\">Loading BokehJS ...</span>\n",
       "    </div>"
      ]
     },
     "metadata": {},
     "output_type": "display_data"
    },
    {
     "data": {
      "application/javascript": [
       "\n",
       "(function(root) {\n",
       "  function now() {\n",
       "    return new Date();\n",
       "  }\n",
       "\n",
       "  var force = true;\n",
       "\n",
       "  if (typeof (root._bokeh_onload_callbacks) === \"undefined\" || force === true) {\n",
       "    root._bokeh_onload_callbacks = [];\n",
       "    root._bokeh_is_loading = undefined;\n",
       "  }\n",
       "\n",
       "  var JS_MIME_TYPE = 'application/javascript';\n",
       "  var HTML_MIME_TYPE = 'text/html';\n",
       "  var EXEC_MIME_TYPE = 'application/vnd.bokehjs_exec.v0+json';\n",
       "  var CLASS_NAME = 'output_bokeh rendered_html';\n",
       "\n",
       "  /**\n",
       "   * Render data to the DOM node\n",
       "   */\n",
       "  function render(props, node) {\n",
       "    var script = document.createElement(\"script\");\n",
       "    node.appendChild(script);\n",
       "  }\n",
       "\n",
       "  /**\n",
       "   * Handle when an output is cleared or removed\n",
       "   */\n",
       "  function handleClearOutput(event, handle) {\n",
       "    var cell = handle.cell;\n",
       "\n",
       "    var id = cell.output_area._bokeh_element_id;\n",
       "    var server_id = cell.output_area._bokeh_server_id;\n",
       "    // Clean up Bokeh references\n",
       "    if (id !== undefined) {\n",
       "      Bokeh.index[id].model.document.clear();\n",
       "      delete Bokeh.index[id];\n",
       "    }\n",
       "\n",
       "    if (server_id !== undefined) {\n",
       "      // Clean up Bokeh references\n",
       "      var cmd = \"from bokeh.io.state import curstate; print(curstate().uuid_to_server['\" + server_id + \"'].get_sessions()[0].document.roots[0]._id)\";\n",
       "      cell.notebook.kernel.execute(cmd, {\n",
       "        iopub: {\n",
       "          output: function(msg) {\n",
       "            var element_id = msg.content.text.trim();\n",
       "            Bokeh.index[element_id].model.document.clear();\n",
       "            delete Bokeh.index[element_id];\n",
       "          }\n",
       "        }\n",
       "      });\n",
       "      // Destroy server and session\n",
       "      var cmd = \"import bokeh.io.notebook as ion; ion.destroy_server('\" + server_id + \"')\";\n",
       "      cell.notebook.kernel.execute(cmd);\n",
       "    }\n",
       "  }\n",
       "\n",
       "  /**\n",
       "   * Handle when a new output is added\n",
       "   */\n",
       "  function handleAddOutput(event, handle) {\n",
       "    var output_area = handle.output_area;\n",
       "    var output = handle.output;\n",
       "\n",
       "    // limit handleAddOutput to display_data with EXEC_MIME_TYPE content only\n",
       "    if ((output.output_type != \"display_data\") || (!output.data.hasOwnProperty(EXEC_MIME_TYPE))) {\n",
       "      return\n",
       "    }\n",
       "\n",
       "    var toinsert = output_area.element.find(\".\" + CLASS_NAME.split(' ')[0]);\n",
       "\n",
       "    if (output.metadata[EXEC_MIME_TYPE][\"id\"] !== undefined) {\n",
       "      toinsert[0].firstChild.textContent = output.data[JS_MIME_TYPE];\n",
       "      // store reference to embed id on output_area\n",
       "      output_area._bokeh_element_id = output.metadata[EXEC_MIME_TYPE][\"id\"];\n",
       "    }\n",
       "    if (output.metadata[EXEC_MIME_TYPE][\"server_id\"] !== undefined) {\n",
       "      var bk_div = document.createElement(\"div\");\n",
       "      bk_div.innerHTML = output.data[HTML_MIME_TYPE];\n",
       "      var script_attrs = bk_div.children[0].attributes;\n",
       "      for (var i = 0; i < script_attrs.length; i++) {\n",
       "        toinsert[0].firstChild.setAttribute(script_attrs[i].name, script_attrs[i].value);\n",
       "      }\n",
       "      // store reference to server id on output_area\n",
       "      output_area._bokeh_server_id = output.metadata[EXEC_MIME_TYPE][\"server_id\"];\n",
       "    }\n",
       "  }\n",
       "\n",
       "  function register_renderer(events, OutputArea) {\n",
       "\n",
       "    function append_mime(data, metadata, element) {\n",
       "      // create a DOM node to render to\n",
       "      var toinsert = this.create_output_subarea(\n",
       "        metadata,\n",
       "        CLASS_NAME,\n",
       "        EXEC_MIME_TYPE\n",
       "      );\n",
       "      this.keyboard_manager.register_events(toinsert);\n",
       "      // Render to node\n",
       "      var props = {data: data, metadata: metadata[EXEC_MIME_TYPE]};\n",
       "      render(props, toinsert[0]);\n",
       "      element.append(toinsert);\n",
       "      return toinsert\n",
       "    }\n",
       "\n",
       "    /* Handle when an output is cleared or removed */\n",
       "    events.on('clear_output.CodeCell', handleClearOutput);\n",
       "    events.on('delete.Cell', handleClearOutput);\n",
       "\n",
       "    /* Handle when a new output is added */\n",
       "    events.on('output_added.OutputArea', handleAddOutput);\n",
       "\n",
       "    /**\n",
       "     * Register the mime type and append_mime function with output_area\n",
       "     */\n",
       "    OutputArea.prototype.register_mime_type(EXEC_MIME_TYPE, append_mime, {\n",
       "      /* Is output safe? */\n",
       "      safe: true,\n",
       "      /* Index of renderer in `output_area.display_order` */\n",
       "      index: 0\n",
       "    });\n",
       "  }\n",
       "\n",
       "  // register the mime type if in Jupyter Notebook environment and previously unregistered\n",
       "  if (root.Jupyter !== undefined) {\n",
       "    var events = require('base/js/events');\n",
       "    var OutputArea = require('notebook/js/outputarea').OutputArea;\n",
       "\n",
       "    if (OutputArea.prototype.mime_types().indexOf(EXEC_MIME_TYPE) == -1) {\n",
       "      register_renderer(events, OutputArea);\n",
       "    }\n",
       "  }\n",
       "\n",
       "  \n",
       "  if (typeof (root._bokeh_timeout) === \"undefined\" || force === true) {\n",
       "    root._bokeh_timeout = Date.now() + 5000;\n",
       "    root._bokeh_failed_load = false;\n",
       "  }\n",
       "\n",
       "  var NB_LOAD_WARNING = {'data': {'text/html':\n",
       "     \"<div style='background-color: #fdd'>\\n\"+\n",
       "     \"<p>\\n\"+\n",
       "     \"BokehJS does not appear to have successfully loaded. If loading BokehJS from CDN, this \\n\"+\n",
       "     \"may be due to a slow or bad network connection. Possible fixes:\\n\"+\n",
       "     \"</p>\\n\"+\n",
       "     \"<ul>\\n\"+\n",
       "     \"<li>re-rerun `output_notebook()` to attempt to load from CDN again, or</li>\\n\"+\n",
       "     \"<li>use INLINE resources instead, as so:</li>\\n\"+\n",
       "     \"</ul>\\n\"+\n",
       "     \"<code>\\n\"+\n",
       "     \"from bokeh.resources import INLINE\\n\"+\n",
       "     \"output_notebook(resources=INLINE)\\n\"+\n",
       "     \"</code>\\n\"+\n",
       "     \"</div>\"}};\n",
       "\n",
       "  function display_loaded() {\n",
       "    var el = document.getElementById(\"a626c64f-9d09-4698-877d-9f2f5ce3a651\");\n",
       "    if (el != null) {\n",
       "      el.textContent = \"BokehJS is loading...\";\n",
       "    }\n",
       "    if (root.Bokeh !== undefined) {\n",
       "      if (el != null) {\n",
       "        el.textContent = \"BokehJS \" + root.Bokeh.version + \" successfully loaded.\";\n",
       "      }\n",
       "    } else if (Date.now() < root._bokeh_timeout) {\n",
       "      setTimeout(display_loaded, 100)\n",
       "    }\n",
       "  }\n",
       "\n",
       "\n",
       "  function run_callbacks() {\n",
       "    try {\n",
       "      root._bokeh_onload_callbacks.forEach(function(callback) { callback() });\n",
       "    }\n",
       "    finally {\n",
       "      delete root._bokeh_onload_callbacks\n",
       "    }\n",
       "    console.info(\"Bokeh: all callbacks have finished\");\n",
       "  }\n",
       "\n",
       "  function load_libs(js_urls, callback) {\n",
       "    root._bokeh_onload_callbacks.push(callback);\n",
       "    if (root._bokeh_is_loading > 0) {\n",
       "      console.log(\"Bokeh: BokehJS is being loaded, scheduling callback at\", now());\n",
       "      return null;\n",
       "    }\n",
       "    if (js_urls == null || js_urls.length === 0) {\n",
       "      run_callbacks();\n",
       "      return null;\n",
       "    }\n",
       "    console.log(\"Bokeh: BokehJS not loaded, scheduling load and callback at\", now());\n",
       "    root._bokeh_is_loading = js_urls.length;\n",
       "    for (var i = 0; i < js_urls.length; i++) {\n",
       "      var url = js_urls[i];\n",
       "      var s = document.createElement('script');\n",
       "      s.src = url;\n",
       "      s.async = false;\n",
       "      s.onreadystatechange = s.onload = function() {\n",
       "        root._bokeh_is_loading--;\n",
       "        if (root._bokeh_is_loading === 0) {\n",
       "          console.log(\"Bokeh: all BokehJS libraries loaded\");\n",
       "          run_callbacks()\n",
       "        }\n",
       "      };\n",
       "      s.onerror = function() {\n",
       "        console.warn(\"failed to load library \" + url);\n",
       "      };\n",
       "      console.log(\"Bokeh: injecting script tag for BokehJS library: \", url);\n",
       "      document.getElementsByTagName(\"head\")[0].appendChild(s);\n",
       "    }\n",
       "  };var element = document.getElementById(\"a626c64f-9d09-4698-877d-9f2f5ce3a651\");\n",
       "  if (element == null) {\n",
       "    console.log(\"Bokeh: ERROR: autoload.js configured with elementid 'a626c64f-9d09-4698-877d-9f2f5ce3a651' but no matching script tag was found. \")\n",
       "    return false;\n",
       "  }\n",
       "\n",
       "  var js_urls = [\"https://cdn.pydata.org/bokeh/release/bokeh-0.12.13.min.js\", \"https://cdn.pydata.org/bokeh/release/bokeh-widgets-0.12.13.min.js\", \"https://cdn.pydata.org/bokeh/release/bokeh-tables-0.12.13.min.js\", \"https://cdn.pydata.org/bokeh/release/bokeh-gl-0.12.13.min.js\"];\n",
       "\n",
       "  var inline_js = [\n",
       "    function(Bokeh) {\n",
       "      Bokeh.set_log_level(\"info\");\n",
       "    },\n",
       "    \n",
       "    function(Bokeh) {\n",
       "      \n",
       "    },\n",
       "    function(Bokeh) {\n",
       "      console.log(\"Bokeh: injecting CSS: https://cdn.pydata.org/bokeh/release/bokeh-0.12.13.min.css\");\n",
       "      Bokeh.embed.inject_css(\"https://cdn.pydata.org/bokeh/release/bokeh-0.12.13.min.css\");\n",
       "      console.log(\"Bokeh: injecting CSS: https://cdn.pydata.org/bokeh/release/bokeh-widgets-0.12.13.min.css\");\n",
       "      Bokeh.embed.inject_css(\"https://cdn.pydata.org/bokeh/release/bokeh-widgets-0.12.13.min.css\");\n",
       "      console.log(\"Bokeh: injecting CSS: https://cdn.pydata.org/bokeh/release/bokeh-tables-0.12.13.min.css\");\n",
       "      Bokeh.embed.inject_css(\"https://cdn.pydata.org/bokeh/release/bokeh-tables-0.12.13.min.css\");\n",
       "    }\n",
       "  ];\n",
       "\n",
       "  function run_inline_js() {\n",
       "    \n",
       "    if ((root.Bokeh !== undefined) || (force === true)) {\n",
       "      for (var i = 0; i < inline_js.length; i++) {\n",
       "        inline_js[i].call(root, root.Bokeh);\n",
       "      }if (force === true) {\n",
       "        display_loaded();\n",
       "      }} else if (Date.now() < root._bokeh_timeout) {\n",
       "      setTimeout(run_inline_js, 100);\n",
       "    } else if (!root._bokeh_failed_load) {\n",
       "      console.log(\"Bokeh: BokehJS failed to load within specified timeout.\");\n",
       "      root._bokeh_failed_load = true;\n",
       "    } else if (force !== true) {\n",
       "      var cell = $(document.getElementById(\"a626c64f-9d09-4698-877d-9f2f5ce3a651\")).parents('.cell').data().cell;\n",
       "      cell.output_area.append_execute_result(NB_LOAD_WARNING)\n",
       "    }\n",
       "\n",
       "  }\n",
       "\n",
       "  if (root._bokeh_is_loading === 0) {\n",
       "    console.log(\"Bokeh: BokehJS loaded, going straight to plotting\");\n",
       "    run_inline_js();\n",
       "  } else {\n",
       "    load_libs(js_urls, function() {\n",
       "      console.log(\"Bokeh: BokehJS plotting callback run at\", now());\n",
       "      run_inline_js();\n",
       "    });\n",
       "  }\n",
       "}(window));"
      ],
      "application/vnd.bokehjs_load.v0+json": "\n(function(root) {\n  function now() {\n    return new Date();\n  }\n\n  var force = true;\n\n  if (typeof (root._bokeh_onload_callbacks) === \"undefined\" || force === true) {\n    root._bokeh_onload_callbacks = [];\n    root._bokeh_is_loading = undefined;\n  }\n\n  \n\n  \n  if (typeof (root._bokeh_timeout) === \"undefined\" || force === true) {\n    root._bokeh_timeout = Date.now() + 5000;\n    root._bokeh_failed_load = false;\n  }\n\n  var NB_LOAD_WARNING = {'data': {'text/html':\n     \"<div style='background-color: #fdd'>\\n\"+\n     \"<p>\\n\"+\n     \"BokehJS does not appear to have successfully loaded. If loading BokehJS from CDN, this \\n\"+\n     \"may be due to a slow or bad network connection. Possible fixes:\\n\"+\n     \"</p>\\n\"+\n     \"<ul>\\n\"+\n     \"<li>re-rerun `output_notebook()` to attempt to load from CDN again, or</li>\\n\"+\n     \"<li>use INLINE resources instead, as so:</li>\\n\"+\n     \"</ul>\\n\"+\n     \"<code>\\n\"+\n     \"from bokeh.resources import INLINE\\n\"+\n     \"output_notebook(resources=INLINE)\\n\"+\n     \"</code>\\n\"+\n     \"</div>\"}};\n\n  function display_loaded() {\n    var el = document.getElementById(\"a626c64f-9d09-4698-877d-9f2f5ce3a651\");\n    if (el != null) {\n      el.textContent = \"BokehJS is loading...\";\n    }\n    if (root.Bokeh !== undefined) {\n      if (el != null) {\n        el.textContent = \"BokehJS \" + root.Bokeh.version + \" successfully loaded.\";\n      }\n    } else if (Date.now() < root._bokeh_timeout) {\n      setTimeout(display_loaded, 100)\n    }\n  }\n\n\n  function run_callbacks() {\n    try {\n      root._bokeh_onload_callbacks.forEach(function(callback) { callback() });\n    }\n    finally {\n      delete root._bokeh_onload_callbacks\n    }\n    console.info(\"Bokeh: all callbacks have finished\");\n  }\n\n  function load_libs(js_urls, callback) {\n    root._bokeh_onload_callbacks.push(callback);\n    if (root._bokeh_is_loading > 0) {\n      console.log(\"Bokeh: BokehJS is being loaded, scheduling callback at\", now());\n      return null;\n    }\n    if (js_urls == null || js_urls.length === 0) {\n      run_callbacks();\n      return null;\n    }\n    console.log(\"Bokeh: BokehJS not loaded, scheduling load and callback at\", now());\n    root._bokeh_is_loading = js_urls.length;\n    for (var i = 0; i < js_urls.length; i++) {\n      var url = js_urls[i];\n      var s = document.createElement('script');\n      s.src = url;\n      s.async = false;\n      s.onreadystatechange = s.onload = function() {\n        root._bokeh_is_loading--;\n        if (root._bokeh_is_loading === 0) {\n          console.log(\"Bokeh: all BokehJS libraries loaded\");\n          run_callbacks()\n        }\n      };\n      s.onerror = function() {\n        console.warn(\"failed to load library \" + url);\n      };\n      console.log(\"Bokeh: injecting script tag for BokehJS library: \", url);\n      document.getElementsByTagName(\"head\")[0].appendChild(s);\n    }\n  };var element = document.getElementById(\"a626c64f-9d09-4698-877d-9f2f5ce3a651\");\n  if (element == null) {\n    console.log(\"Bokeh: ERROR: autoload.js configured with elementid 'a626c64f-9d09-4698-877d-9f2f5ce3a651' but no matching script tag was found. \")\n    return false;\n  }\n\n  var js_urls = [\"https://cdn.pydata.org/bokeh/release/bokeh-0.12.13.min.js\", \"https://cdn.pydata.org/bokeh/release/bokeh-widgets-0.12.13.min.js\", \"https://cdn.pydata.org/bokeh/release/bokeh-tables-0.12.13.min.js\", \"https://cdn.pydata.org/bokeh/release/bokeh-gl-0.12.13.min.js\"];\n\n  var inline_js = [\n    function(Bokeh) {\n      Bokeh.set_log_level(\"info\");\n    },\n    \n    function(Bokeh) {\n      \n    },\n    function(Bokeh) {\n      console.log(\"Bokeh: injecting CSS: https://cdn.pydata.org/bokeh/release/bokeh-0.12.13.min.css\");\n      Bokeh.embed.inject_css(\"https://cdn.pydata.org/bokeh/release/bokeh-0.12.13.min.css\");\n      console.log(\"Bokeh: injecting CSS: https://cdn.pydata.org/bokeh/release/bokeh-widgets-0.12.13.min.css\");\n      Bokeh.embed.inject_css(\"https://cdn.pydata.org/bokeh/release/bokeh-widgets-0.12.13.min.css\");\n      console.log(\"Bokeh: injecting CSS: https://cdn.pydata.org/bokeh/release/bokeh-tables-0.12.13.min.css\");\n      Bokeh.embed.inject_css(\"https://cdn.pydata.org/bokeh/release/bokeh-tables-0.12.13.min.css\");\n    }\n  ];\n\n  function run_inline_js() {\n    \n    if ((root.Bokeh !== undefined) || (force === true)) {\n      for (var i = 0; i < inline_js.length; i++) {\n        inline_js[i].call(root, root.Bokeh);\n      }if (force === true) {\n        display_loaded();\n      }} else if (Date.now() < root._bokeh_timeout) {\n      setTimeout(run_inline_js, 100);\n    } else if (!root._bokeh_failed_load) {\n      console.log(\"Bokeh: BokehJS failed to load within specified timeout.\");\n      root._bokeh_failed_load = true;\n    } else if (force !== true) {\n      var cell = $(document.getElementById(\"a626c64f-9d09-4698-877d-9f2f5ce3a651\")).parents('.cell').data().cell;\n      cell.output_area.append_execute_result(NB_LOAD_WARNING)\n    }\n\n  }\n\n  if (root._bokeh_is_loading === 0) {\n    console.log(\"Bokeh: BokehJS loaded, going straight to plotting\");\n    run_inline_js();\n  } else {\n    load_libs(js_urls, function() {\n      console.log(\"Bokeh: BokehJS plotting callback run at\", now());\n      run_inline_js();\n    });\n  }\n}(window));"
     },
     "metadata": {},
     "output_type": "display_data"
    },
    {
     "data": {
      "text/html": [
       "\n",
       "<div class=\"bk-root\">\n",
       "    <div class=\"bk-plotdiv\" id=\"05decd4e-b83e-4d03-a7f5-717fb2b3cd3a\"></div>\n",
       "</div>"
      ]
     },
     "metadata": {},
     "output_type": "display_data"
    },
    {
     "data": {
      "application/javascript": [
       "(function(root) {\n",
       "  function embed_document(root) {\n",
       "    \n",
       "  var docs_json = {\"cab9eb22-c069-4741-ad6d-baaa46708442\":{\"roots\":{\"references\":[{\"attributes\":{},\"id\":\"da06d2e7-e7d7-40bd-8978-d47625e332f0\",\"type\":\"BasicTickFormatter\"},{\"attributes\":{\"fill_alpha\":{\"value\":0.1},\"fill_color\":{\"value\":\"#1f77b4\"},\"line_alpha\":{\"value\":0.1},\"line_color\":{\"value\":\"#1f77b4\"},\"size\":{\"units\":\"screen\",\"value\":8},\"x\":{\"field\":\"x1\"},\"y\":{\"field\":\"x2\"}},\"id\":\"a3a83fd1-ba7c-49f4-8ce8-6f0431bb9a07\",\"type\":\"Circle\"},{\"attributes\":{},\"id\":\"79e4a512-721f-42cf-84a6-ef2839299892\",\"type\":\"BasicTickFormatter\"},{\"attributes\":{\"below\":[{\"id\":\"afb3b175-5648-4dda-af2c-def8cf190944\",\"type\":\"LinearAxis\"}],\"left\":[{\"id\":\"efda2f39-d2fa-4da1-9c4e-8075a5cada04\",\"type\":\"LinearAxis\"}],\"renderers\":[{\"id\":\"afb3b175-5648-4dda-af2c-def8cf190944\",\"type\":\"LinearAxis\"},{\"id\":\"f8d67c47-e579-4482-9e8e-3c672dc37ab6\",\"type\":\"Grid\"},{\"id\":\"efda2f39-d2fa-4da1-9c4e-8075a5cada04\",\"type\":\"LinearAxis\"},{\"id\":\"5056b1de-b962-4108-94e9-8817cac319eb\",\"type\":\"Grid\"},{\"id\":\"d95348db-9ddd-4041-a4d4-79613f8dbfbc\",\"type\":\"GlyphRenderer\"},{\"id\":\"db96c72a-0200-4c6f-809f-f6f60f7056ab\",\"type\":\"LabelSet\"}],\"title\":{\"id\":\"c6bee847-1f68-4e5f-8817-a0040ce19172\",\"type\":\"Title\"},\"toolbar\":{\"id\":\"f9e75e0f-3a1f-41b3-be12-18a7a45ff553\",\"type\":\"Toolbar\"},\"toolbar_location\":\"above\",\"x_range\":{\"id\":\"85c214f6-023b-487d-ba82-894ff89660ae\",\"type\":\"DataRange1d\"},\"x_scale\":{\"id\":\"ad8f1762-1fa7-4c12-87f7-1e6a570f6f35\",\"type\":\"LinearScale\"},\"y_range\":{\"id\":\"759c5ddc-aaed-4a2b-88f3-28dc851c55bc\",\"type\":\"DataRange1d\"},\"y_scale\":{\"id\":\"34a9a992-f434-4ad3-8b25-db62f01fa9fa\",\"type\":\"LinearScale\"}},\"id\":\"b44bd009-d75a-4464-8410-c3831e7bb81d\",\"subtype\":\"Figure\",\"type\":\"Plot\"},{\"attributes\":{\"formatter\":{\"id\":\"79e4a512-721f-42cf-84a6-ef2839299892\",\"type\":\"BasicTickFormatter\"},\"plot\":{\"id\":\"b44bd009-d75a-4464-8410-c3831e7bb81d\",\"subtype\":\"Figure\",\"type\":\"Plot\"},\"ticker\":{\"id\":\"0c07ba16-c23f-4bf7-b213-fdb89729b659\",\"type\":\"BasicTicker\"}},\"id\":\"afb3b175-5648-4dda-af2c-def8cf190944\",\"type\":\"LinearAxis\"},{\"attributes\":{},\"id\":\"0c07ba16-c23f-4bf7-b213-fdb89729b659\",\"type\":\"BasicTicker\"},{\"attributes\":{\"plot\":{\"id\":\"b44bd009-d75a-4464-8410-c3831e7bb81d\",\"subtype\":\"Figure\",\"type\":\"Plot\"},\"ticker\":{\"id\":\"0c07ba16-c23f-4bf7-b213-fdb89729b659\",\"type\":\"BasicTicker\"}},\"id\":\"f8d67c47-e579-4482-9e8e-3c672dc37ab6\",\"type\":\"Grid\"},{\"attributes\":{\"formatter\":{\"id\":\"da06d2e7-e7d7-40bd-8978-d47625e332f0\",\"type\":\"BasicTickFormatter\"},\"plot\":{\"id\":\"b44bd009-d75a-4464-8410-c3831e7bb81d\",\"subtype\":\"Figure\",\"type\":\"Plot\"},\"ticker\":{\"id\":\"1d10d597-28d6-487b-9381-17f1b58e0592\",\"type\":\"BasicTicker\"}},\"id\":\"efda2f39-d2fa-4da1-9c4e-8075a5cada04\",\"type\":\"LinearAxis\"},{\"attributes\":{},\"id\":\"1d10d597-28d6-487b-9381-17f1b58e0592\",\"type\":\"BasicTicker\"},{\"attributes\":{\"dimension\":1,\"plot\":{\"id\":\"b44bd009-d75a-4464-8410-c3831e7bb81d\",\"subtype\":\"Figure\",\"type\":\"Plot\"},\"ticker\":{\"id\":\"1d10d597-28d6-487b-9381-17f1b58e0592\",\"type\":\"BasicTicker\"}},\"id\":\"5056b1de-b962-4108-94e9-8817cac319eb\",\"type\":\"Grid\"},{\"attributes\":{},\"id\":\"55c00c90-c214-4106-9b2e-08a5bba2f143\",\"type\":\"PanTool\"},{\"attributes\":{\"fill_color\":{\"value\":\"#1f77b4\"},\"line_color\":{\"value\":\"#1f77b4\"},\"size\":{\"units\":\"screen\",\"value\":8},\"x\":{\"field\":\"x1\"},\"y\":{\"field\":\"x2\"}},\"id\":\"dbf63b60-d96a-484c-a164-879896449364\",\"type\":\"Circle\"},{\"attributes\":{\"plot\":null,\"text\":\"word2vec T-SNE for most common words\"},\"id\":\"c6bee847-1f68-4e5f-8817-a0040ce19172\",\"type\":\"Title\"},{\"attributes\":{\"callback\":null,\"column_names\":[\"x1\",\"x2\",\"names\"],\"data\":{\"names\":[\"\\u0431\\u0430\\u043d\\u043a\",\"\\u043a\\u0430\\u0440\\u0442\\u0430\",\"\\u0434\\u0435\\u043d\\u044c\\u0433\\u0438\",\"\\u0434\\u0435\\u043d\\u044c\",\"\\u043c\\u043e\\u0439\",\"\\u043a\\u0440\\u0435\\u0434\\u0438\\u0442\",\"\\u043a\\u043e\\u0442\\u043e\\u0440\\u044b\\u0439\",\"\\u043e\\u0442\\u0434\\u0435\\u043b\\u0435\\u043d\\u0438\\u0435\",\"\\u043a\\u043b\\u0438\\u0435\\u043d\\u0442\",\"\\u0441\\u043e\\u0442\\u0440\\u0443\\u0434\\u043d\\u0438\\u043a\",\"\\u0441\\u0447\\u0435\\u0442\",\"\\u0441\\u043a\\u0430\\u0437\\u0430\\u0442\\u044c\",\"\\u0441\\u0443\\u043c\\u043c\\u0430\",\"\\u043f\\u043e\\u043b\\u0443\\u0447\\u0430\\u0442\\u044c\",\"\\u0437\\u0430\\u044f\\u0432\\u043b\\u0435\\u043d\\u0438\\u0435\",\"\\u0433\\u043e\\u0434\",\"\\u0441\\u0432\\u043e\\u0439\",\"\\u0432\\u043e\\u043f\\u0440\\u043e\\u0441\",\"\\u0432\\u0440\\u0435\\u043c\\u044f\",\"\\u043c\\u043e\\u0447\\u044c\",\"\\u0442\\u0430\\u043a\\u043e\\u0439\",\"\\u043a\\u0440\\u0435\\u0434\\u0438\\u0442\\u043d\\u044b\\u0439\",\"\\u043f\\u0440\\u0438\\u0445\\u043e\\u0434\\u0438\\u0442\\u044c\",\"\\u043e\\u0442\\u0432\\u0435\\u0442\",\"\\u0432\\u043a\\u043b\\u0430\\u0434\",\"\\u043e\\u0444\\u0438\\u0441\",\"\\u0434\\u0430\\u043d\\u043d\\u044b\\u0439\",\"\\u0442\\u0435\\u043b\\u0435\\u0444\\u043e\\u043d\",\"\\u043f\\u043b\\u0430\\u0442\\u0435\\u0436\",\"\\u0434\\u043e\\u0433\\u043e\\u0432\\u043e\\u0440\",\"\\u0432\\u0430\\u0448\",\"\\u043d\\u043e\\u043c\\u0435\\u0440\",\"\\u0437\\u0432\\u043e\\u043d\\u0438\\u0442\\u044c\",\"\\u0431\\u0430\\u043d\\u043a\\u043e\\u043c\\u0430\\u0442\",\"\\u0441\\u0431\\u0435\\u0440\\u0431\\u0430\\u043d\\u043a\",\"\\u043e\\u0447\\u0435\\u043d\\u044c\",\"\\u043f\\u043e\\u0437\\u0432\\u043e\\u043d\\u0438\\u0442\\u044c\",\"\\u0433\",\"\\u043c\\u0435\\u0441\\u044f\\u0446\",\"\\u043d\\u0430\\u043f\\u0438\\u0441\\u0430\\u0442\\u044c\",\"\\u043f\\u0440\\u043e\\u0431\\u043b\\u0435\\u043c\\u0430\",\"\\u043e\\u0431\\u0440\\u0430\\u0449\\u0430\\u0442\\u044c\\u0441\\u044f\",\"\\u0434\\u0440\\u0443\\u0433\\u043e\\u0439\",\"\\u0440\\u0435\\u0448\\u0430\\u0442\\u044c\",\"\\u0440\\u0430\\u0431\\u043e\\u0442\\u0430\\u0442\\u044c\",\"\\u043a\\u0430\\u043a\\u043e\\u0439\",\"\\u0441\\u0440\\u0435\\u0434\\u0441\\u0442\\u0432\\u043e\",\"\\u0440\\u0443\\u0431\\u043b\\u044c\",\"\\u0440\\u0430\\u0431\\u043e\\u0442\\u0430\",\"\\u0434\\u043e\\u043a\\u0443\\u043c\\u0435\\u043d\\u0442\",\"\\u0441\\u0438\\u0442\\u0443\\u0430\\u0446\\u0438\\u044f\",\"\\u0437\\u0432\\u043e\\u043d\\u043e\\u043a\",\"\\u043e\\u0442\\u0432\\u0435\\u0447\\u0430\\u0442\\u044c\",\"\\u0433\\u043e\\u0432\\u043e\\u0440\\u0438\\u0442\\u044c\",\"\\u043e\\u0434\\u0438\\u043d\",\"\\u0447\\u0435\\u043b\\u043e\\u0432\\u0435\\u043a\",\"\\u0445\\u043e\\u0442\\u0435\\u0442\\u044c\",\"\\u043e\\u043f\\u0435\\u0440\\u0430\\u0446\\u0438\\u044f\",\"\\u043f\\u043e\\u0447\\u0435\\u043c\\u0443\",\"\\u0434\\u0430\\u0432\\u0430\\u0442\\u044c\",\"\\u0438\\u043d\\u0444\\u043e\\u0440\\u043c\\u0430\\u0446\\u0438\\u044f\",\"\\u0441\\u043e\\u043e\\u0431\\u0449\\u0430\\u0442\\u044c\",\"\\u0441\\u0434\\u0435\\u043b\\u0430\\u0442\\u044c\",\"\\u0441\\u043c\\u0441\",\"\\u043e\\u0444\\u043e\\u0440\\u043c\\u043b\\u044f\\u0442\\u044c\",\"\\u0441\\u0440\\u043e\\u043a\",\"\\u0443\\u0441\\u043b\\u0443\\u0433\\u0430\",\"\\u0431\\u044b\\u0442\\u044c\",\"\\u043f\\u0440\\u043e\\u0441\\u0442\\u043e\",\"\\u0437\\u043d\\u0430\\u0442\\u044c\",\"\\u0434\\u043e\\u043b\\u0436\\u043d\\u044b\\u0439\",\"\\u0437\\u0430\\u044f\\u0432\\u043a\\u0430\",\"\\u0431\\u0430\\u043d\\u043a\\u0430\",\"\\u043e\\u0431\\u0441\\u043b\\u0443\\u0436\\u0438\\u0432\\u0430\\u043d\\u0438\\u0435\",\"\\u043e\\u0447\\u0435\\u0440\\u0435\\u0434\\u044c\",\"\\u043c\\u0438\\u043d\\u0443\\u0442\\u0430\",\"\\u0441\\u0435\\u0433\\u043e\\u0434\\u043d\\u044f\",\"\\u0434\\u0435\\u0432\\u0443\\u0448\\u043a\\u0430\",\"\\u043f\\u0435\\u0440\\u0432\\u044b\\u0439\",\"\\u0436\\u0434\\u0430\\u0442\\u044c\",\"\\u0441\\u0430\\u0439\\u0442\",\"\\u0440\\u0443\\u0431\",\"\\u043f\\u0440\\u0435\\u0442\\u0435\\u043d\\u0437\\u0438\\u044f\",\"\\u043f\\u0440\\u043e\\u0441\\u0438\\u0442\\u044c\",\"\\u043d\\u043e\\u0432\\u044b\\u0439\",\"\\u0438\\u043d\\u0442\\u0435\\u0440\\u043d\\u0435\\u0442\",\"\\u043f\\u0440\\u043e\\u0446\\u0435\\u043d\\u0442\",\"\\u043f\\u0440\\u0438\\u043d\\u0438\\u043c\\u0430\\u0442\\u044c\",\"\\u0441\\u043d\\u0438\\u043c\\u0430\\u0442\\u044c\",\"\\u0442\\u043e\\u0442\",\"\\u0432\\u044b\\u0434\\u0430\\u0432\\u0430\\u0442\\u044c\",\"\\u043d\\u0435\\u0434\\u0435\\u043b\\u044f\",\"\\u044d\\u0442\\u043e\\u0442\",\"\\u043e\\u0442\\u043a\\u0440\\u044b\\u0432\\u0430\\u0442\\u044c\",\"\\u043d\\u0438\\u043a\\u0430\\u043a\\u043e\\u0439\",\"\\u043e\\u043f\\u0435\\u0440\\u0430\\u0442\\u043e\\u0440\",\"\\u044f\\u0432\\u043b\\u044f\\u0442\\u044c\\u0441\\u044f\",\"\\u044f\",\"\\u043f\\u043e\\u043d\\u0438\\u043c\\u0430\\u0442\\u044c\",\"\\u0441\\u0442\\u0430\\u043d\\u043e\\u0432\\u0438\\u0442\\u044c\\u0441\\u044f\",\"\\u0437\\u0430\\u043a\\u0440\\u044b\\u0432\\u0430\\u0442\\u044c\",\"\\u043f\\u0440\\u0435\\u0434\\u043b\\u0430\\u0433\\u0430\\u0442\\u044c\",\"\\u043e\\u043f\\u043b\\u0430\\u0447\\u0438\\u0432\\u0430\\u0442\\u044c\",\"\\u043f\\u0440\\u043e\\u0445\\u043e\\u0434\\u0438\\u0442\\u044c\",\"\\u0447\\u0430\\u0441\",\"\\u043d\\u0435\\u0441\\u043a\\u043e\\u043b\\u044c\\u043a\\u043e\",\"\\u043f\\u0435\\u0440\\u0435\\u0432\\u043e\\u0434\",\"\\u043f\\u0438\\u0441\\u0430\\u0442\\u044c\",\"\\u043e\\u043a\\u0430\\u0437\\u044b\\u0432\\u0430\\u0442\\u044c\\u0441\\u044f\",\"\\u043d\\u0443\\u0436\\u043d\\u043e\",\"\\u043a\\u043e\\u043c\\u0438\\u0441\\u0441\\u0438\\u044f\",\"\\u0441\\u0430\\u043c\\u044b\\u0439\",\"\\u0435\",\"\\u0445\\u043e\\u0442\\u044f\",\"\\u0438\\u043c\\u0435\\u0442\\u044c\",\"\\u043e\\u0431\\u044a\\u044f\\u0441\\u043d\\u044f\\u0442\\u044c\",\"\\u043f\\u043e\\u043b\\u044c\\u0437\\u043e\\u0432\\u0430\\u0442\\u044c\\u0441\\u044f\",\"\\u0443\\u0441\\u043b\\u043e\\u0432\\u0438\\u0435\",\"\\u0441\\u043b\\u0435\\u0434\\u0443\\u044e\\u0449\\u0438\\u0439\",\"\\u0446\\u0435\\u043d\\u0442\\u0440\",\"\\u043c\\u043e\\u043c\\u0435\\u043d\\u0442\",\"\\u0437\\u0430\\u0434\\u043e\\u043b\\u0436\\u0435\\u043d\\u043d\\u043e\\u0441\\u0442\\u044c\",\"\\u0443\\u0437\\u043d\\u0430\\u0432\\u0430\\u0442\\u044c\",\"\\u0432\\u0437\\u044f\\u0442\\u044c\",\"\\u0441\\u043b\\u0443\\u0447\\u0430\\u0439\",\"\\u0443\\u043a\\u0430\\u0437\\u044b\\u0432\\u0430\\u0442\\u044c\",\"\\u0442\\u0435\\u0447\\u0435\\u043d\\u0438\\u0435\",\"\\u043f\\u0440\\u0438\\u0445\\u043e\\u0434\\u0438\\u0442\\u044c\\u0441\\u044f\",\"\\u0432\\u043e\\u043e\\u0431\\u0449\\u0435\",\"\\u0434\\u0435\\u043b\\u0430\\u0442\\u044c\",\"\\u0441\\u0440\\u0430\\u0437\\u0443\",\"\\u0432\\u0441\",\"\\u0434\\u0435\\u043b\\u043e\",\"\\u043d\\u0438\\u043a\\u0442\\u043e\",\"\\u0440\\u0435\\u0448\\u0435\\u043d\\u0438\\u0435\",\"\\u0441\\u043b\\u0443\\u0436\\u0431\\u0430\",\"\\u0432\\u043d\\u043e\\u0441\\u0438\\u0442\\u044c\",\"\\u0441\\u043f\\u0435\\u0446\\u0438\\u0430\\u043b\\u0438\\u0441\\u0442\",\"\\u0441\\u0438\\u0441\\u0442\\u0435\\u043c\\u0430\",\"\\u043d\\u0430\\u0447\\u0438\\u043d\\u0430\\u0442\\u044c\",\"\\u0441\\u043f\\u0440\\u0430\\u0448\\u0438\\u0432\\u0430\\u0442\\u044c\",\"\\u0434\\u0435\\u043d\\u0435\\u0436\\u043d\\u044b\\u0439\",\"\\u043e\\u0431\\u0440\\u0430\\u0449\\u0435\\u043d\\u0438\\u0435\",\"\\u043e\\u0442\\u0437\\u044b\\u0432\",\"\\u043e\\u0442\\u043f\\u0440\\u0430\\u0432\\u043b\\u044f\\u0442\\u044c\",\"\\u0430\\u0434\\u0440\\u0435\\u0441\",\"\\u0441\\u043c\\u043e\\u0447\\u044c\",\"\\u043c\\u043e\\u0441\\u043a\\u0432\\u0430\",\"\\u043e\\u043f\\u043b\\u0430\\u0442\\u0430\",\"\\u0438\\u0442\\u043e\\u0433\",\"\\u043c\\u0435\\u043d\\u0435\\u0434\\u0436\\u0435\\u0440\",\"\\u043d\\u0443\\u0436\\u043d\\u044b\\u0439\",\"\\u0432\\u0435\\u0441\\u044c\",\"\\u0441\\u0430\\u043c\",\"\\u043a\\u0430\\u0436\\u0434\\u044b\\u0439\",\"\\u043f\\u0440\\u0435\\u0434\\u043e\\u0441\\u0442\\u0430\\u0432\\u043b\\u044f\\u0442\\u044c\",\"\\u043f\\u043e\\u0441\\u0442\\u0443\\u043f\\u0430\\u0442\\u044c\",\"\\u0434\\u0430\\u043d\\u043d\\u044b\\u0435\",\"\\u043f\\u043e\\u043a\\u0430\",\"\\u0440\",\"\\u043a\\u0430\\u0441\\u0441\\u0430\",\"\\u043f\\u0440\\u043e\\u0438\\u0441\\u0445\\u043e\\u0434\\u0438\\u0442\\u044c\",\"\\u0438\\u0441\\u0442\\u043e\\u0440\\u0438\\u044f\",\"\\u043e\\u0431\\u0449\\u0438\\u0439\",\"\\u0434\\u0443\\u043c\\u0430\\u0442\\u044c\",\"\\u043e\\u0441\\u0442\\u0430\\u0432\\u0430\\u0442\\u044c\\u0441\\u044f\",\"\\u0441\\u043b\\u043e\\u0432\\u043e\",\"\\u0432\\u0442\\u043e\\u0440\\u043e\\u0439\",\"\\u0432\\u0435\\u0440\\u043d\\u0443\\u0442\\u044c\",\"\\u043f\\u043e\\u0433\\u0430\\u0448\\u0435\\u043d\\u0438\\u0435\",\"\\u0434\\u043e\\u0431\\u0440\\u044b\\u0439\",\"\\u043e\\u0442\\u043d\\u043e\\u0448\\u0435\\u043d\\u0438\\u0435\",\"\\u0440\\u0430\\u0437\\u0431\\u0438\\u0440\\u0430\\u0442\\u044c\\u0441\\u044f\",\"\\u0431\\u0440\\u0430\\u0442\\u044c\",\"\\u0430\\u043b\\u044c\\u0444\\u0430\",\"\\u0438\\u0434\\u0442\\u0438\",\"\\u043f\\u043e\\u0434\\u0434\\u0435\\u0440\\u0436\\u043a\\u0430\",\"\\u043f\\u0440\\u0438\\u0435\\u0437\\u0436\\u0430\\u0442\\u044c\",\"\\u043f\\u043e\\u0441\\u043b\\u0435\\u0434\\u043d\\u0438\\u0439\",\"\\u043f\\u043e\\u043f\\u0440\\u043e\\u0441\\u0438\\u0442\\u044c\",\"\\u043f\\u043e\\u043b\\u0443\\u0447\\u0435\\u043d\\u0438\\u0435\",\"\\u043b\\u0438\\u0446\\u043e\",\"\\u0441\\u043f\\u0430\\u0441\\u0438\\u0431\\u043e\",\"\\u043e\\u0441\\u0442\\u0430\\u0432\\u043b\\u044f\\u0442\\u044c\",\"\\u043d\\u0430\\u0445\\u043e\\u0434\\u0438\\u0442\\u044c\\u0441\\u044f\",\"\\u043f\\u0438\\u0441\\u044c\\u043c\\u043e\",\"\\u0443\\u0442\\u043e\\u0447\\u043d\\u044f\\u0442\\u044c\",\"\\u043d\\u0430\\u0448\",\"\\u043c\\u044b\",\"\\u043b\\u0438\\u043c\\u0438\\u0442\",\"\\u043f\\u043b\\u0430\\u0442\\u0438\\u0442\\u044c\",\"\\u0434\\u0430\\u0442\\u0430\",\"\\u043b\\u0438\\u043d\\u0438\\u044f\",\"\\u0440\\u0430\\u0431\\u043e\\u0447\\u0438\\u0439\",\"\\u0441\\u0432\\u044f\\u0437\\u044c\",\"\\u043f\\u043e\\u043c\\u043e\\u0433\\u0430\\u0442\\u044c\",\"\\u0432\\u043e\\u0437\\u043c\\u043e\\u0436\\u043d\\u043e\\u0441\\u0442\\u044c\",\"\\u043e\\u0442\\u043a\\u0430\\u0437\\u044b\\u0432\\u0430\\u0442\\u044c\\u0441\\u044f\",\"\\u043f\\u0440\\u0438\\u0447\\u0438\\u043d\\u0430\",\"\\u0434\\u0432\\u0430\"],\"x1\":{\"__ndarray__\":\"/8QJQPLFm8DWLzDAUJfnwA0OZECj/sE+YwtDv2i82T9FDvQ/ly4XweSrrsBUHx5AhiyXwBN6EUF/d9u+Ab/GwJp+WkCywCDB+Y3TwDIoqcBy+FM/VETIPq8EykDIvPY/zLzFwK2m2T8Acvc/YEgTwYL380DIXJfAnC4sQAFKGMGYixnB11NrPyp5NEDl8qm/2EwXwU3OIEB7QdTAvMMeQbF4HcHi4LpAsPYTP/NOgMD+385A2OZ1P+k/KcDnOXvAcWTOQHXgvMD9DxPBsjogwf/HHEAPnApA1SM4PvNvnj+4jJjAkd+tQDbSL8Dc1AlBC2tEwXYbTEDx+tNAHrs6QOvHJ0GvKRq+9VjxvxiGbMB7gUS/RblAPuEIv8CpTGW/tUgJQIxCrb+OyrNA9vUDwcJgCMDQIBvBLXtRv32N7b+xbVY/omR8wH0ZV77R4T2+gQpMv/5JYz82CKvA51MDQUNTJkHRjkA/pnUWQW5t48Dx4sE/t/VDQTqe2D9nNRXB4eWJQNzgcMAqQ7Y9tsU5wBteREFFdQI/G8gIQaKw9b94JgPBujz6v/E+rECRqh5BFTOOvnA+p8CvtKLAiQQMwIn+rb8wFCm/3s6VQIyL2kAPtdZAxO9OQJmJMcAIcgDBAkfLwGUv5MAgpHBAw6wHQfk10sA0HZ5AaUUowHt8nsAwETa/Z83JQG4XBMAH8PO/NqE7v8aC+L8AoIbAYgMDwSsxI0GYPBvBr1yqPhFwQcCcCTBAU4GowN0HOD1z0r69K2jmQJQsVEDKuKvAiv0yQJ4oAEG1WOC/mbQdwZX6gsAA7yg/4w+3v0Wm1r/4kQZBnwnXQE0TRMEcjgLA+Id5wKEkGcA1FIdAMvFTwIijyb1KqIi/sEHfPwZpdr8S3Iq/680nQRfrCEFQ3VbAKGSFQLah20ASowZBZDc3QMovrECW4wbB5fCuQDzgQL+0kN49nuYXQWupIkDkM/O+5dkbQbRaUUAqJnM/0X17QJZqU0Dc3xHA8JCVwI0PCEH90Ra+VPQfwcWtXMBoP53AvrGnQKl3xsBf1ETACpNSwGEc178=\",\"dtype\":\"float32\",\"shape\":[200]},\"x2\":{\"__ndarray__\":\"t6Shv5nvnUD+7h9BAlcnwdBiH8CyLpg/DTNzv/jnEUEr1bDAFCzpvzSXlkA+5JtAzzIEQWVwIUCUzU/BPkQywcF7RcBQkK3ADsTewHlzyb8lRoXAn3gfPxSeF0DEmmhAkl+QQKl9EkFEYyvARo8AQKNIEkH6bXk/QYtDwL0dB0CO86hAgJ0OQM6zX7+iyq/AyBOrQGRN8z9aZi7BkyEHwFdHr8A9LpQ/9D2hv8cQ8cD7srTAxCyVwPVvIkFV4QlBZ+C3wGmxIz/WGLPAguijQKANhECuH6BA7pqBv/CYxMDf4ArAq0ggQYO7D8Bh9zVAz9kBQNfHm0BkpYi9mX4uwXv6zj+Y94FAZl4LwbxkY8AEhDnAhIhMwG81J8DGHlTBR6Orv4A288BKxgTB6ckPwX2oij+jS2+/ef3MP9Llo0C6mg7BqV8IQdIeTMGU79xAB423PlrBCMFdfxVBeAUyPaO/ukDsSIa+p1pEQNZhKcEwbizAzcdPPwR2dMA92Ly+zZ+lwCkjrD4Fo1DAXKKSwMyPTz/mEsdA6wH1QFFPjUDxFhDBEdwXQNozH0HAEQjAHDCMvkrPGMDAohRBVPG/wEwFAz324ta/bKpuwEP+HMD/TtFAsPECwUIXM0D5MCdAi2CzwOvoQMA2ALpA7jedQMRHrMCRVKJAM7eNQIyGVMD35DDAEKpvvvLyTb42e3vAc1COwOuNFsAbXv7AWInzPyxjx0DVjdO/i0XrwCe8kcDAa7tAl1owQIgjSMG8YSHBTiNQP8/BBEBvyqi/IknAP8YdDUGCzH6/bdPkv1VMqr8PRwXAo+gPwPzoPkDMIDVANSo1QBVJAkCgOVLAzXwHQUkVrD5W28G9rE7AwGtmFsAG+m/AtsQWPXE62b/we5U/Sy2SQAIgFUGmLktAM7bFwMRIMMC9l6BA8O+GwADQjD9wtG6+2cAUQPwqJ0DzQ9RA4ekWQNysyMD3SrjAAMLZv/EeQz+CvT/BLcG2QOrnKsA4RYu/pqTGQJdc6kAOuGBAbOYFP7sZ3z8qPqLAPM3iv8b+kL9mDS2/CY0VwEmgA0A=\",\"dtype\":\"float32\",\"shape\":[200]}}},\"id\":\"aed115b9-9650-4531-be52-0029ef799116\",\"type\":\"ColumnDataSource\"},{\"attributes\":{},\"id\":\"34a9a992-f434-4ad3-8b25-db62f01fa9fa\",\"type\":\"LinearScale\"},{\"attributes\":{\"source\":{\"id\":\"aed115b9-9650-4531-be52-0029ef799116\",\"type\":\"ColumnDataSource\"}},\"id\":\"5480f613-fc4f-432f-90d8-958c5c736b0c\",\"type\":\"CDSView\"},{\"attributes\":{\"callback\":null},\"id\":\"85c214f6-023b-487d-ba82-894ff89660ae\",\"type\":\"DataRange1d\"},{\"attributes\":{},\"id\":\"33aa29ad-0e46-44a3-933a-b615ab26803e\",\"type\":\"WheelZoomTool\"},{\"attributes\":{\"plot\":{\"id\":\"b44bd009-d75a-4464-8410-c3831e7bb81d\",\"subtype\":\"Figure\",\"type\":\"Plot\"},\"source\":{\"id\":\"aed115b9-9650-4531-be52-0029ef799116\",\"type\":\"ColumnDataSource\"},\"text\":{\"field\":\"names\"},\"text_align\":\"center\",\"text_color\":{\"value\":\"#555555\"},\"text_font_size\":{\"value\":\"8pt\"},\"x\":{\"field\":\"x1\"},\"y\":{\"field\":\"x2\"},\"y_offset\":{\"value\":6}},\"id\":\"db96c72a-0200-4c6f-809f-f6f60f7056ab\",\"type\":\"LabelSet\"},{\"attributes\":{},\"id\":\"36a3c491-fc52-49ba-a26e-1867bd4ef2b9\",\"type\":\"ResetTool\"},{\"attributes\":{},\"id\":\"ad8f1762-1fa7-4c12-87f7-1e6a570f6f35\",\"type\":\"LinearScale\"},{\"attributes\":{\"callback\":null},\"id\":\"759c5ddc-aaed-4a2b-88f3-28dc851c55bc\",\"type\":\"DataRange1d\"},{\"attributes\":{},\"id\":\"ebc84379-e35e-48d3-824f-ffee88ec0aee\",\"type\":\"SaveTool\"},{\"attributes\":{\"data_source\":{\"id\":\"aed115b9-9650-4531-be52-0029ef799116\",\"type\":\"ColumnDataSource\"},\"glyph\":{\"id\":\"dbf63b60-d96a-484c-a164-879896449364\",\"type\":\"Circle\"},\"hover_glyph\":null,\"muted_glyph\":null,\"nonselection_glyph\":{\"id\":\"a3a83fd1-ba7c-49f4-8ce8-6f0431bb9a07\",\"type\":\"Circle\"},\"selection_glyph\":null,\"view\":{\"id\":\"5480f613-fc4f-432f-90d8-958c5c736b0c\",\"type\":\"CDSView\"}},\"id\":\"d95348db-9ddd-4041-a4d4-79613f8dbfbc\",\"type\":\"GlyphRenderer\"},{\"attributes\":{\"active_drag\":\"auto\",\"active_inspect\":\"auto\",\"active_scroll\":\"auto\",\"active_tap\":\"auto\",\"tools\":[{\"id\":\"55c00c90-c214-4106-9b2e-08a5bba2f143\",\"type\":\"PanTool\"},{\"id\":\"33aa29ad-0e46-44a3-933a-b615ab26803e\",\"type\":\"WheelZoomTool\"},{\"id\":\"36a3c491-fc52-49ba-a26e-1867bd4ef2b9\",\"type\":\"ResetTool\"},{\"id\":\"ebc84379-e35e-48d3-824f-ffee88ec0aee\",\"type\":\"SaveTool\"}]},\"id\":\"f9e75e0f-3a1f-41b3-be12-18a7a45ff553\",\"type\":\"Toolbar\"}],\"root_ids\":[\"b44bd009-d75a-4464-8410-c3831e7bb81d\"]},\"title\":\"Bokeh Application\",\"version\":\"0.12.13\"}};\n",
       "  var render_items = [{\"docid\":\"cab9eb22-c069-4741-ad6d-baaa46708442\",\"elementid\":\"05decd4e-b83e-4d03-a7f5-717fb2b3cd3a\",\"modelid\":\"b44bd009-d75a-4464-8410-c3831e7bb81d\"}];\n",
       "  root.Bokeh.embed.embed_items_notebook(docs_json, render_items);\n",
       "\n",
       "  }\n",
       "  if (root.Bokeh !== undefined) {\n",
       "    embed_document(root);\n",
       "  } else {\n",
       "    var attempts = 0;\n",
       "    var timer = setInterval(function(root) {\n",
       "      if (root.Bokeh !== undefined) {\n",
       "        embed_document(root);\n",
       "        clearInterval(timer);\n",
       "      }\n",
       "      attempts++;\n",
       "      if (attempts > 100) {\n",
       "        console.log(\"Bokeh: ERROR: Unable to run BokehJS code because BokehJS library is missing\")\n",
       "        clearInterval(timer);\n",
       "      }\n",
       "    }, 10, root)\n",
       "  }\n",
       "})(window);"
      ],
      "application/vnd.bokehjs_exec.v0+json": ""
     },
     "metadata": {
      "application/vnd.bokehjs_exec.v0+json": {
       "id": "b44bd009-d75a-4464-8410-c3831e7bb81d"
      }
     },
     "output_type": "display_data"
    }
   ],
   "source": [
    "from bokeh.models import ColumnDataSource, LabelSet\n",
    "from bokeh.plotting import figure, show, output_file\n",
    "from bokeh.io import output_notebook\n",
    "output_notebook()\n",
    "\n",
    "p = figure(tools=\"pan,wheel_zoom,reset,save\",\n",
    "           toolbar_location=\"above\",\n",
    "           title=\"word2vec T-SNE for most common words\")\n",
    "\n",
    "source = ColumnDataSource(data=dict(x1=top_words_tsne[:,0],\n",
    "                                    x2=top_words_tsne[:,1],\n",
    "                                    names=top_words))\n",
    "\n",
    "p.scatter(x=\"x1\", y=\"x2\", size=8, source=source)\n",
    "\n",
    "labels = LabelSet(x=\"x1\", y=\"x2\", text=\"names\", y_offset=6,\n",
    "                  text_font_size=\"8pt\", text_color=\"#555555\",\n",
    "                  source=source, text_align='center')\n",
    "p.add_layout(labels)\n",
    "\n",
    "show(p)"
   ]
  },
  {
   "cell_type": "markdown",
   "metadata": {},
   "source": [
    "Видны кластеры:\n",
    "    1. про время\n",
    "    2. про суммы и денежные опирации\n",
    "    3. обращения через средства связи\n",
    "    4. обращения письменныез\n",
    "    5. действия клиентов"
   ]
  },
  {
   "cell_type": "code",
   "execution_count": 78,
   "metadata": {},
   "outputs": [
    {
     "name": "stderr",
     "output_type": "stream",
     "text": [
      "/home/anton/anaconda3/lib/python3.6/site-packages/ipykernel_launcher.py:2: DeprecationWarning: Call to deprecated `__getitem__` (Method will be removed in 4.0.0, use self.wv.__getitem__() instead).\n",
      "  \n"
     ]
    }
   ],
   "source": [
    "from sklearn.metrics.pairwise import cosine_similarity\n",
    "dist = 1 - cosine_similarity(model[top_words])"
   ]
  },
  {
   "cell_type": "code",
   "execution_count": 79,
   "metadata": {},
   "outputs": [
    {
     "data": {
      "image/png": "[encoded data removed]",
      "text/plain": [
       "<matplotlib.figure.Figure at 0x7f0510359198>"
      ]
     },
     "metadata": {},
     "output_type": "display_data"
    }
   ],
   "source": [
    "from scipy.cluster.hierarchy import  ward, dendrogram\n",
    "\n",
    "linkage_matrix = ward(dist) \n",
    "\n",
    "fig, ax = plt.subplots(figsize=(10, 100)) \n",
    "ax = dendrogram(linkage_matrix, orientation=\"right\", labels=top_words);\n",
    "\n",
    "plt.tick_params(\\\n",
    "    axis= 'x',          # changes apply to the x-axis\n",
    "    which='both',      # both major and minor ticks are affected\n",
    "    bottom='off',      # ticks along the bottom edge are off\n",
    "    top='off',         # ticks along the top edge are off\n",
    "    labelbottom='off')\n",
    "\n",
    "plt.tight_layout() \n",
    "\n",
    "plt.savefig('w2v_clusters.png', dpi=200) #save figure as ward_clusters"
   ]
  },
  {
   "cell_type": "code",
   "execution_count": 85,
   "metadata": {},
   "outputs": [
    {
     "name": "stderr",
     "output_type": "stream",
     "text": [
      "/home/anton/anaconda3/lib/python3.6/site-packages/ipykernel_launcher.py:9: DeprecationWarning: Call to deprecated `__getitem__` (Method will be removed in 4.0.0, use self.wv.__getitem__() instead).\n",
      "  if __name__ == '__main__':\n",
      "/home/anton/anaconda3/lib/python3.6/site-packages/ipykernel_launcher.py:10: DeprecationWarning: Call to deprecated `__getitem__` (Method will be removed in 4.0.0, use self.wv.__getitem__() instead).\n",
      "  # Remove the CWD from sys.path while we load stuff.\n"
     ]
    },
    {
     "data": {
      "image/png": "[encoded data removed]",
      "text/plain": [
       "<matplotlib.figure.Figure at 0x7f04f982b860>"
      ]
     },
     "metadata": {},
     "output_type": "display_data"
    }
   ],
   "source": [
    "x2, x1 = ['хорошо','плохо']\n",
    "y2, y1 = ['быстро','медленно']\n",
    "x_label = \"%s --------> %s\" % (x2, x1)\n",
    "y_label = \"%s --------> %s\" % (y2, y1)\n",
    "fig = plt.figure(figsize=(12,6))\n",
    "ax = fig.add_subplot(1,1,1)\n",
    "banks = \"втб юникредитбанк ситибанк москомприватбанк бинбанк юникредитбанк промсвязьбанк сбербанк альфабанк тинькоффбанк\".split()\n",
    "for bank in banks:\n",
    "    x = model[bank].dot(model[x2] - model[x1])\n",
    "    y = model[bank].dot(model[y2] - model[y1])\n",
    "    ax.scatter(x, y, alpha=0.7)\n",
    "    ax.text(x, y, bank, alpha=0.7)\n",
    "ax.set_xlabel(x_label)\n",
    "ax.set_ylabel(y_label)\n",
    "plt.show()"
   ]
  },
  {
   "cell_type": "markdown",
   "metadata": {},
   "source": [
    "люди считают что сбербанк это не плохо)"
   ]
  },
  {
   "cell_type": "markdown",
   "metadata": {},
   "source": [
    "## Часть 2. Распространение метки [50 баллов]\n",
    "\n",
    "Определите 5-8 позитивных слов (например, “быстрый”, “удобный”) и 5-8  негативных слов (например,“очередь”, “медленно”). Эти слова будут основной будущего оценочного словаря. Пусть позитивному классу соответствует метка 1, негативному – -1. Пометьте выбранные слова в лексическом графе соответствующими метками. Запустите любой известный вам метод распространения метки (Label Propogation) в лексическом графе. На выходе метода распространения ошибки должны быть новые слова, помеченные метками 1 и -1 – это и есть искомые оценочные слова.\n",
    "\n",
    "Алгоритмы распространения метки устроены примерно так: пусть мы находимся в выршине, помеченном +1. С какой-то вероятностью мы переносим эту метку на соседние узлы. С меньшей вероятностью переносим ее на вершины на расстоянии два. В конце распространения метки, часть вершин оказывается помечена меткой +1, часть – -1, большая часть остается без метки.\n",
    "\n",
    "Рекомендуемые алгоритмы распространения метки:\n",
    "1. ```graphlab.label_propagation``` (```graphlab``` доступен бесплатно по образовательной лицензии)\n",
    "2. ```sklearn.semi_supervised.LabelPropagation``` \n",
    "3. ```sklearn.semi_supervised.LabelSpreading```"
   ]
  },
  {
   "cell_type": "code",
   "execution_count": null,
   "metadata": {},
   "outputs": [],
   "source": [
    "# пример построения графа \n",
    "\n",
    "import igraph as ig\n",
    "g = ig.Graph(directed=True)\n",
    "for word in model.wv.vocab.keys():\n",
    "    g.add_vertex(word)\n",
    "    \n",
    "    \n",
    "    \n",
    "for word in model.wv.vocab.keys() :\n",
    "    node = g.vs.select(name = word).indices[0]\n",
    "    similar_words = model.most_similar(word, topn=5)\n",
    "    for sim in similar_words:\n",
    "        word1 = sim[0]\n",
    "        val  = sim[1]\n",
    "        new_node = g.vs.select(name = word1).indices[0]\n",
    "        g.add_edge(node, new_node, weight = val)"
   ]
  }
 ],
 "metadata": {
  "kernelspec": {
   "display_name": "Python 3",
   "language": "python",
   "name": "python3"
  },
  "language_info": {
   "codemirror_mode": {
    "name": "ipython",
    "version": 3
   },
   "file_extension": ".py",
   "mimetype": "text/x-python",
   "name": "python",
   "nbconvert_exporter": "python",
   "pygments_lexer": "ipython3",
   "version": "3.6.4"
  }
 },
 "nbformat": 4,
 "nbformat_minor": 2
}
