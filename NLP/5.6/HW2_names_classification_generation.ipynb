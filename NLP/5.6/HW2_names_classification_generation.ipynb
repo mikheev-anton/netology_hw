{
 "cells": [
  {
   "cell_type": "markdown",
   "metadata": {},
   "source": [
    "#  Домашнее задание по NLP # 3 [100 баллов] \n",
    "## Классификация и генерация фамилий \n",
    "\n",
    "В этом домашнем задании вам предстоит классифицировать и генерировать фамилии на 19 разных языках. Обучающие данные хранятся в папке data и разбиты по языкам: один язык – одна подпапка. Ниже представлен код для считывания данных в словарь вида: \n",
    "```d{язык} : [список имен]```."
   ]
  },
  {
   "cell_type": "code",
   "execution_count": 175,
   "metadata": {},
   "outputs": [],
   "source": [
    "import nltk\n",
    "import pandas as pd\n",
    "\n",
    "from sklearn.utils import shuffle\n",
    "\n",
    "from keras.preprocessing.text import Tokenizer\n",
    "from keras.preprocessing.sequence import pad_sequences\n",
    "from keras.layers import LSTM, TimeDistributed, Bidirectional\n",
    "from keras.models import Sequential\n",
    "from keras.layers import Dense, Activation, Embedding, Flatten, Dropout\n",
    "\n",
    "from sklearn.model_selection import train_test_split"
   ]
  },
  {
   "cell_type": "code",
   "execution_count": 176,
   "metadata": {},
   "outputs": [
    {
     "name": "stdout",
     "output_type": "stream",
     "text": [
      "['data/names/Polish.txt', 'data/names/Czech.txt', 'data/names/French.txt', 'data/names/Greek.txt', 'data/names/Portuguese.txt', 'data/names/Chinese.txt', 'data/names/Japanese.txt', 'data/names/Irish.txt', 'data/names/English.txt', 'data/names/Vietnamese.txt', 'data/names/Russian.txt', 'data/names/German.txt', 'data/names/Arabic.txt', 'data/names/Scottish.txt', 'data/names/Korean.txt', 'data/names/Italian.txt', 'data/names/Dutch.txt', 'data/names/Spanish.txt']\n",
      "['Abels', 'Abelsky', 'Abeltsev', 'Abelyan', 'Aberson', 'Abertasov', 'Abesadze', 'Abezgauz', 'Abgaryan', 'Abibulaev', 'Abidoff', 'Abidov', 'Abih', 'Abikh', 'Abisaloff', 'Abisalov', 'Abitoff', 'Abitov', 'Abjaliloff', 'Abjalilov']\n"
     ]
    }
   ],
   "source": [
    "from __future__ import unicode_literals, print_function, division\n",
    "from io import open\n",
    "import glob\n",
    "\n",
    "def findFiles(path): return glob.glob(path)\n",
    "\n",
    "print(findFiles('data/names/*.txt'))\n",
    "\n",
    "\n",
    "def readLines(filename):\n",
    "    lines = open(filename, encoding='utf-8').read().strip().split('\\n')\n",
    "    return lines\n",
    "\n",
    "all_categories = []\n",
    "category_lines = {}\n",
    "for filename in findFiles('data/names/*.txt'):\n",
    "    category = filename.split('/')[-1].split('.')[0]\n",
    "    all_categories.append(category)\n",
    "    lines = readLines(filename)\n",
    "    category_lines[category] = lines\n",
    "\n",
    "n_categories = len(all_categories)\n",
    "\n",
    "print(category_lines['Russian'][100:120])"
   ]
  },
  {
   "cell_type": "markdown",
   "metadata": {},
   "source": [
    "## Часть 1. Предварительная обработка данных [10 баллов]\n",
    "\n",
    "1. Удалите неоднозначные фамилии (т.е. одинаковые фамилии на разных языка), если такие есть;\n",
    "2. Оцените \n",
    "    * среднюю длину фамилии по всей коллекции\n",
    "    * по каждому языку\n",
    "3. Для последующей классификации (части 2 и 3) оздайте обучающее и тестовое множество так, чтобы в обучающем множестве классы были сбалансированы: то есть, в обучающее множество должно входить примерно одинаковое количество фамилий на разных ящыка. "
   ]
  },
  {
   "cell_type": "code",
   "execution_count": 177,
   "metadata": {},
   "outputs": [],
   "source": [
    "df = pd.DataFrame.from_dict(category_lines, orient='index').T"
   ]
  },
  {
   "cell_type": "code",
   "execution_count": 178,
   "metadata": {},
   "outputs": [
    {
     "data": {
      "text/html": [
       "<div>\n",
       "<style scoped>\n",
       "    .dataframe tbody tr th:only-of-type {\n",
       "        vertical-align: middle;\n",
       "    }\n",
       "\n",
       "    .dataframe tbody tr th {\n",
       "        vertical-align: top;\n",
       "    }\n",
       "\n",
       "    .dataframe thead th {\n",
       "        text-align: right;\n",
       "    }\n",
       "</style>\n",
       "<table border=\"1\" class=\"dataframe\">\n",
       "  <thead>\n",
       "    <tr style=\"text-align: right;\">\n",
       "      <th></th>\n",
       "      <th>Polish</th>\n",
       "      <th>Czech</th>\n",
       "      <th>French</th>\n",
       "      <th>Greek</th>\n",
       "      <th>Portuguese</th>\n",
       "      <th>Chinese</th>\n",
       "      <th>Japanese</th>\n",
       "      <th>Irish</th>\n",
       "      <th>English</th>\n",
       "      <th>Vietnamese</th>\n",
       "      <th>Russian</th>\n",
       "      <th>German</th>\n",
       "      <th>Arabic</th>\n",
       "      <th>Scottish</th>\n",
       "      <th>Korean</th>\n",
       "      <th>Italian</th>\n",
       "      <th>Dutch</th>\n",
       "      <th>Spanish</th>\n",
       "    </tr>\n",
       "  </thead>\n",
       "  <tbody>\n",
       "    <tr>\n",
       "      <th>0</th>\n",
       "      <td>Adamczak</td>\n",
       "      <td>Abl</td>\n",
       "      <td>Abel</td>\n",
       "      <td>Adamidis</td>\n",
       "      <td>Abreu</td>\n",
       "      <td>Ang</td>\n",
       "      <td>Abe</td>\n",
       "      <td>Adam</td>\n",
       "      <td>Abbas</td>\n",
       "      <td>Nguyen</td>\n",
       "      <td>Ababko</td>\n",
       "      <td>Abbing</td>\n",
       "      <td>Khoury</td>\n",
       "      <td>Smith</td>\n",
       "      <td>Ahn</td>\n",
       "      <td>Abandonato</td>\n",
       "      <td>Aalsburg</td>\n",
       "      <td>Abana</td>\n",
       "    </tr>\n",
       "    <tr>\n",
       "      <th>1</th>\n",
       "      <td>Adamczyk</td>\n",
       "      <td>Adsit</td>\n",
       "      <td>Abraham</td>\n",
       "      <td>Adamou</td>\n",
       "      <td>Albuquerque</td>\n",
       "      <td>Au-Yong</td>\n",
       "      <td>Abukara</td>\n",
       "      <td>Ahearn</td>\n",
       "      <td>Abbey</td>\n",
       "      <td>Tron</td>\n",
       "      <td>Abaev</td>\n",
       "      <td>Abel</td>\n",
       "      <td>Nahas</td>\n",
       "      <td>Brown</td>\n",
       "      <td>Baik</td>\n",
       "      <td>Abatangelo</td>\n",
       "      <td>Aalst</td>\n",
       "      <td>Abano</td>\n",
       "    </tr>\n",
       "    <tr>\n",
       "      <th>2</th>\n",
       "      <td>Andrysiak</td>\n",
       "      <td>Ajdrna</td>\n",
       "      <td>Adam</td>\n",
       "      <td>Agelakos</td>\n",
       "      <td>Almeida</td>\n",
       "      <td>Bai</td>\n",
       "      <td>Adachi</td>\n",
       "      <td>Aodh</td>\n",
       "      <td>Abbott</td>\n",
       "      <td>Le</td>\n",
       "      <td>Abagyan</td>\n",
       "      <td>Abeln</td>\n",
       "      <td>Daher</td>\n",
       "      <td>Wilson</td>\n",
       "      <td>Bang</td>\n",
       "      <td>Abatantuono</td>\n",
       "      <td>Aarle</td>\n",
       "      <td>Abarca</td>\n",
       "    </tr>\n",
       "    <tr>\n",
       "      <th>3</th>\n",
       "      <td>Auttenberg</td>\n",
       "      <td>Alt</td>\n",
       "      <td>Albert</td>\n",
       "      <td>Akrivopoulos</td>\n",
       "      <td>Alves</td>\n",
       "      <td>Ban</td>\n",
       "      <td>Aida</td>\n",
       "      <td>Aodha</td>\n",
       "      <td>Abdi</td>\n",
       "      <td>Pham</td>\n",
       "      <td>Abaidulin</td>\n",
       "      <td>Abt</td>\n",
       "      <td>Gerges</td>\n",
       "      <td>Campbell</td>\n",
       "      <td>Byon</td>\n",
       "      <td>Abate</td>\n",
       "      <td>Achteren</td>\n",
       "      <td>Abaroa</td>\n",
       "    </tr>\n",
       "    <tr>\n",
       "      <th>4</th>\n",
       "      <td>Bartosz</td>\n",
       "      <td>Antonowitsch</td>\n",
       "      <td>Allard</td>\n",
       "      <td>Alexandropoulos</td>\n",
       "      <td>Araújo</td>\n",
       "      <td>Bao</td>\n",
       "      <td>Aihara</td>\n",
       "      <td>Aonghuis</td>\n",
       "      <td>Abel</td>\n",
       "      <td>Huynh</td>\n",
       "      <td>Abaidullin</td>\n",
       "      <td>Achilles</td>\n",
       "      <td>Nazari</td>\n",
       "      <td>Stewart</td>\n",
       "      <td>Cha</td>\n",
       "      <td>Abategiovanni</td>\n",
       "      <td>Achthoven</td>\n",
       "      <td>Abascal</td>\n",
       "    </tr>\n",
       "  </tbody>\n",
       "</table>\n",
       "</div>"
      ],
      "text/plain": [
       "       Polish         Czech   French            Greek   Portuguese  Chinese  \\\n",
       "0    Adamczak           Abl     Abel         Adamidis        Abreu      Ang   \n",
       "1    Adamczyk         Adsit  Abraham           Adamou  Albuquerque  Au-Yong   \n",
       "2   Andrysiak        Ajdrna     Adam         Agelakos      Almeida      Bai   \n",
       "3  Auttenberg           Alt   Albert     Akrivopoulos        Alves      Ban   \n",
       "4     Bartosz  Antonowitsch   Allard  Alexandropoulos       Araújo      Bao   \n",
       "\n",
       "  Japanese     Irish English Vietnamese     Russian    German  Arabic  \\\n",
       "0      Abe      Adam   Abbas     Nguyen      Ababko    Abbing  Khoury   \n",
       "1  Abukara    Ahearn   Abbey       Tron       Abaev      Abel   Nahas   \n",
       "2   Adachi      Aodh  Abbott         Le     Abagyan     Abeln   Daher   \n",
       "3     Aida     Aodha    Abdi       Pham   Abaidulin       Abt  Gerges   \n",
       "4   Aihara  Aonghuis    Abel      Huynh  Abaidullin  Achilles  Nazari   \n",
       "\n",
       "   Scottish Korean        Italian      Dutch  Spanish  \n",
       "0     Smith    Ahn     Abandonato   Aalsburg    Abana  \n",
       "1     Brown   Baik     Abatangelo      Aalst    Abano  \n",
       "2    Wilson   Bang    Abatantuono      Aarle   Abarca  \n",
       "3  Campbell   Byon          Abate   Achteren   Abaroa  \n",
       "4   Stewart    Cha  Abategiovanni  Achthoven  Abascal  "
      ]
     },
     "execution_count": 178,
     "metadata": {},
     "output_type": "execute_result"
    }
   ],
   "source": [
    "df.head()"
   ]
  },
  {
   "cell_type": "code",
   "execution_count": 179,
   "metadata": {},
   "outputs": [],
   "source": [
    "f_df = df.stack().to_frame().reset_index()\n",
    "del f_df['level_0']\n",
    "f_df.columns = ['lang', 'second_names']\n",
    "f_df.second_names = f_df.second_names.str.lower()\n",
    "f_df.second_names = f_df.second_names.str.strip()"
   ]
  },
  {
   "cell_type": "code",
   "execution_count": 180,
   "metadata": {},
   "outputs": [
    {
     "data": {
      "text/plain": [
       "Russian       9408\n",
       "English       3668\n",
       "Arabic        2000\n",
       "Japanese       991\n",
       "German         724\n",
       "Italian        709\n",
       "Czech          519\n",
       "Spanish        298\n",
       "Dutch          297\n",
       "French         277\n",
       "Chinese        268\n",
       "Irish          232\n",
       "Greek          203\n",
       "Polish         139\n",
       "Scottish       100\n",
       "Korean          94\n",
       "Portuguese      74\n",
       "Vietnamese      73\n",
       "Name: lang, dtype: int64"
      ]
     },
     "execution_count": 180,
     "metadata": {},
     "output_type": "execute_result"
    }
   ],
   "source": [
    "f_df.lang.value_counts()"
   ]
  },
  {
   "cell_type": "code",
   "execution_count": 181,
   "metadata": {},
   "outputs": [],
   "source": [
    "# удаление одинаковых фамилий\n",
    "f_df.drop_duplicates(inplace=True, subset=['second_names'])"
   ]
  },
  {
   "cell_type": "code",
   "execution_count": 182,
   "metadata": {},
   "outputs": [
    {
     "data": {
      "text/html": [
       "<div>\n",
       "<style scoped>\n",
       "    .dataframe tbody tr th:only-of-type {\n",
       "        vertical-align: middle;\n",
       "    }\n",
       "\n",
       "    .dataframe tbody tr th {\n",
       "        vertical-align: top;\n",
       "    }\n",
       "\n",
       "    .dataframe thead th {\n",
       "        text-align: right;\n",
       "    }\n",
       "</style>\n",
       "<table border=\"1\" class=\"dataframe\">\n",
       "  <thead>\n",
       "    <tr style=\"text-align: right;\">\n",
       "      <th></th>\n",
       "      <th>lang</th>\n",
       "      <th>second_names</th>\n",
       "    </tr>\n",
       "  </thead>\n",
       "  <tbody>\n",
       "    <tr>\n",
       "      <th>364</th>\n",
       "      <td>Portuguese</td>\n",
       "      <td>de santigo</td>\n",
       "    </tr>\n",
       "    <tr>\n",
       "      <th>1208</th>\n",
       "      <td>French</td>\n",
       "      <td>de la fontaine</td>\n",
       "    </tr>\n",
       "    <tr>\n",
       "      <th>1298</th>\n",
       "      <td>French</td>\n",
       "      <td>de sauveterre</td>\n",
       "    </tr>\n",
       "    <tr>\n",
       "      <th>1442</th>\n",
       "      <td>Spanish</td>\n",
       "      <td>de la cruz</td>\n",
       "    </tr>\n",
       "    <tr>\n",
       "      <th>1458</th>\n",
       "      <td>Spanish</td>\n",
       "      <td>de la fuente</td>\n",
       "    </tr>\n",
       "    <tr>\n",
       "      <th>1474</th>\n",
       "      <td>Spanish</td>\n",
       "      <td>del bosque</td>\n",
       "    </tr>\n",
       "    <tr>\n",
       "      <th>1490</th>\n",
       "      <td>Spanish</td>\n",
       "      <td>de leon</td>\n",
       "    </tr>\n",
       "    <tr>\n",
       "      <th>1522</th>\n",
       "      <td>Spanish</td>\n",
       "      <td>del olmo</td>\n",
       "    </tr>\n",
       "    <tr>\n",
       "      <th>3480</th>\n",
       "      <td>Chinese</td>\n",
       "      <td>lu:</td>\n",
       "    </tr>\n",
       "    <tr>\n",
       "      <th>3587</th>\n",
       "      <td>Spanish</td>\n",
       "      <td>san nicolas</td>\n",
       "    </tr>\n",
       "    <tr>\n",
       "      <th>3710</th>\n",
       "      <td>French</td>\n",
       "      <td>st martin</td>\n",
       "    </tr>\n",
       "    <tr>\n",
       "      <th>3721</th>\n",
       "      <td>French</td>\n",
       "      <td>st pierre</td>\n",
       "    </tr>\n",
       "    <tr>\n",
       "      <th>3819</th>\n",
       "      <td>Czech</td>\n",
       "      <td>maxa/b</td>\n",
       "    </tr>\n",
       "    <tr>\n",
       "      <th>3986</th>\n",
       "      <td>Italian</td>\n",
       "      <td>de angelis</td>\n",
       "    </tr>\n",
       "    <tr>\n",
       "      <th>3995</th>\n",
       "      <td>Italian</td>\n",
       "      <td>de campo</td>\n",
       "    </tr>\n",
       "    <tr>\n",
       "      <th>4004</th>\n",
       "      <td>Italian</td>\n",
       "      <td>de felice</td>\n",
       "    </tr>\n",
       "    <tr>\n",
       "      <th>4013</th>\n",
       "      <td>Italian</td>\n",
       "      <td>de filippis</td>\n",
       "    </tr>\n",
       "    <tr>\n",
       "      <th>4022</th>\n",
       "      <td>Italian</td>\n",
       "      <td>de fiore</td>\n",
       "    </tr>\n",
       "    <tr>\n",
       "      <th>4031</th>\n",
       "      <td>Italian</td>\n",
       "      <td>de laurentis</td>\n",
       "    </tr>\n",
       "    <tr>\n",
       "      <th>4040</th>\n",
       "      <td>Italian</td>\n",
       "      <td>de luca</td>\n",
       "    </tr>\n",
       "    <tr>\n",
       "      <th>4049</th>\n",
       "      <td>Italian</td>\n",
       "      <td>de palma</td>\n",
       "    </tr>\n",
       "    <tr>\n",
       "      <th>4050</th>\n",
       "      <td>Dutch</td>\n",
       "      <td>ter avest</td>\n",
       "    </tr>\n",
       "    <tr>\n",
       "      <th>4058</th>\n",
       "      <td>Italian</td>\n",
       "      <td>de rege</td>\n",
       "    </tr>\n",
       "    <tr>\n",
       "      <th>4067</th>\n",
       "      <td>Italian</td>\n",
       "      <td>de santis</td>\n",
       "    </tr>\n",
       "    <tr>\n",
       "      <th>4076</th>\n",
       "      <td>Italian</td>\n",
       "      <td>de vitis</td>\n",
       "    </tr>\n",
       "    <tr>\n",
       "      <th>4085</th>\n",
       "      <td>Italian</td>\n",
       "      <td>di antonio</td>\n",
       "    </tr>\n",
       "    <tr>\n",
       "      <th>4094</th>\n",
       "      <td>Italian</td>\n",
       "      <td>di caprio</td>\n",
       "    </tr>\n",
       "    <tr>\n",
       "      <th>4103</th>\n",
       "      <td>Italian</td>\n",
       "      <td>di mercurio</td>\n",
       "    </tr>\n",
       "    <tr>\n",
       "      <th>4130</th>\n",
       "      <td>Italian</td>\n",
       "      <td>di pasqua</td>\n",
       "    </tr>\n",
       "    <tr>\n",
       "      <th>4139</th>\n",
       "      <td>Italian</td>\n",
       "      <td>di pietro</td>\n",
       "    </tr>\n",
       "    <tr>\n",
       "      <th>4147</th>\n",
       "      <td>Italian</td>\n",
       "      <td>di stefano</td>\n",
       "    </tr>\n",
       "    <tr>\n",
       "      <th>4162</th>\n",
       "      <td>Czech</td>\n",
       "      <td>novy novy</td>\n",
       "    </tr>\n",
       "    <tr>\n",
       "      <th>6169</th>\n",
       "      <td>English</td>\n",
       "      <td>d arcy</td>\n",
       "    </tr>\n",
       "    <tr>\n",
       "      <th>6409</th>\n",
       "      <td>English</td>\n",
       "      <td>de ath</td>\n",
       "    </tr>\n",
       "    <tr>\n",
       "      <th>6471</th>\n",
       "      <td>German</td>\n",
       "      <td>van tonder</td>\n",
       "    </tr>\n",
       "    <tr>\n",
       "      <th>6525</th>\n",
       "      <td>German</td>\n",
       "      <td>von brandt</td>\n",
       "    </tr>\n",
       "    <tr>\n",
       "      <th>6531</th>\n",
       "      <td>German</td>\n",
       "      <td>von essen</td>\n",
       "    </tr>\n",
       "    <tr>\n",
       "      <th>6537</th>\n",
       "      <td>German</td>\n",
       "      <td>von grimmelshausen</td>\n",
       "    </tr>\n",
       "    <tr>\n",
       "      <th>6543</th>\n",
       "      <td>German</td>\n",
       "      <td>von ingersleben</td>\n",
       "    </tr>\n",
       "    <tr>\n",
       "      <th>6555</th>\n",
       "      <td>German</td>\n",
       "      <td>von wegberg</td>\n",
       "    </tr>\n",
       "    <tr>\n",
       "      <th>10932</th>\n",
       "      <td>English</td>\n",
       "      <td>le tissier</td>\n",
       "    </tr>\n",
       "    <tr>\n",
       "      <th>15060</th>\n",
       "      <td>Russian</td>\n",
       "      <td>jevolojnov,</td>\n",
       "    </tr>\n",
       "    <tr>\n",
       "      <th>15901</th>\n",
       "      <td>Russian</td>\n",
       "      <td>lysansky,</td>\n",
       "    </tr>\n",
       "    <tr>\n",
       "      <th>15920</th>\n",
       "      <td>Russian</td>\n",
       "      <td>lytkin,</td>\n",
       "    </tr>\n",
       "    <tr>\n",
       "      <th>18606</th>\n",
       "      <td>Russian</td>\n",
       "      <td>to the first  page</td>\n",
       "    </tr>\n",
       "    <tr>\n",
       "      <th>18607</th>\n",
       "      <td>Russian</td>\n",
       "      <td>to the first page</td>\n",
       "    </tr>\n",
       "  </tbody>\n",
       "</table>\n",
       "</div>"
      ],
      "text/plain": [
       "             lang        second_names\n",
       "364    Portuguese          de santigo\n",
       "1208       French      de la fontaine\n",
       "1298       French       de sauveterre\n",
       "1442      Spanish          de la cruz\n",
       "1458      Spanish        de la fuente\n",
       "1474      Spanish          del bosque\n",
       "1490      Spanish             de leon\n",
       "1522      Spanish            del olmo\n",
       "3480      Chinese                 lu:\n",
       "3587      Spanish         san nicolas\n",
       "3710       French           st martin\n",
       "3721       French           st pierre\n",
       "3819        Czech              maxa/b\n",
       "3986      Italian          de angelis\n",
       "3995      Italian            de campo\n",
       "4004      Italian           de felice\n",
       "4013      Italian         de filippis\n",
       "4022      Italian            de fiore\n",
       "4031      Italian        de laurentis\n",
       "4040      Italian             de luca\n",
       "4049      Italian            de palma\n",
       "4050        Dutch           ter avest\n",
       "4058      Italian             de rege\n",
       "4067      Italian           de santis\n",
       "4076      Italian            de vitis\n",
       "4085      Italian          di antonio\n",
       "4094      Italian           di caprio\n",
       "4103      Italian         di mercurio\n",
       "4130      Italian           di pasqua\n",
       "4139      Italian           di pietro\n",
       "4147      Italian          di stefano\n",
       "4162        Czech           novy novy\n",
       "6169      English              d arcy\n",
       "6409      English              de ath\n",
       "6471       German          van tonder\n",
       "6525       German          von brandt\n",
       "6531       German           von essen\n",
       "6537       German  von grimmelshausen\n",
       "6543       German     von ingersleben\n",
       "6555       German         von wegberg\n",
       "10932     English          le tissier\n",
       "15060     Russian         jevolojnov,\n",
       "15901     Russian           lysansky,\n",
       "15920     Russian             lytkin,\n",
       "18606     Russian  to the first  page\n",
       "18607     Russian   to the first page"
      ]
     },
     "execution_count": 182,
     "metadata": {},
     "output_type": "execute_result"
    }
   ],
   "source": [
    "f_df[f_df.second_names.str.contains('[^\\w\\'-]+', regex=True)]"
   ]
  },
  {
   "cell_type": "code",
   "execution_count": 183,
   "metadata": {},
   "outputs": [
    {
     "name": "stdout",
     "output_type": "stream",
     "text": [
      "['a', 'd', 'm', 'c', 'z', 'k', 'b', 'l', 'e', 'i', 's', 'r', 'u', 'n', 'g', 'y', 'o', 'h', 't', 'q', '-', 'v', 'w', 'j', 'p', 'x', 'ú', 'f', 'à', 'ó', 'ż', 'ü', 'é', \"'\", 'á', ' ', 'ä', 'ã', 'ń', 'í', 'ł', 'ò', 'õ', 'ö', 'ś', 'ą', 'ñ', 'ê', 'ç', 'ß', ':', '/', 'ù', '1', 'ì', 'è', ',', '\\xa0']\n"
     ]
    }
   ],
   "source": [
    "chars = [char  for name in f_df.second_names.tolist() for char in name]\n",
    "freq = nltk.FreqDist(chars)\n",
    "\n",
    "print(list(freq.keys()))"
   ]
  },
  {
   "cell_type": "code",
   "execution_count": 184,
   "metadata": {},
   "outputs": [],
   "source": [
    "f_df.drop(f_df[f_df.second_names.str.contains('[//1:\\xa0,]', regex=True)].index,inplace=True)"
   ]
  },
  {
   "cell_type": "code",
   "execution_count": 185,
   "metadata": {},
   "outputs": [
    {
     "name": "stdout",
     "output_type": "stream",
     "text": [
      "['a', 'd', 'm', 'c', 'z', 'k', 'b', 'l', 'e', 'i', 's', 'r', 'u', 'n', 'g', 'y', 'o', 'h', 't', 'q', '-', 'v', 'w', 'j', 'p', 'x', 'ú', 'f', 'à', 'ó', 'ż', 'ü', 'é', \"'\", 'á', ' ', 'ä', 'ã', 'ń', 'í', 'ł', 'ò', 'õ', 'ö', 'ś', 'ą', 'ñ', 'ê', 'ç', 'ß', 'ù', 'ì', 'è']\n"
     ]
    }
   ],
   "source": [
    "chars = [char  for name in f_df.second_names.tolist() for char in name]\n",
    "freq = nltk.FreqDist(chars)\n",
    "\n",
    "print(list(freq.keys()))"
   ]
  },
  {
   "cell_type": "code",
   "execution_count": 186,
   "metadata": {},
   "outputs": [
    {
     "name": "stdout",
     "output_type": "stream",
     "text": [
      "['a', 'd', 'm', 'c', 'z', 'k', 'b', 'l', 'e', 'i', 's', 'r', 'u', 'n', 'g', 'y', 'o', 'h', 't', 'q', '-', 'v', 'w', 'j', 'p', 'x', 'ú', 'f', 'à', 'ó', 'ż', 'ü', 'é', \"'\", 'á', ' ', 'ä', 'ã', 'ń', 'í', 'ł', 'ò', 'õ', 'ö', 'ś', 'ą', 'ñ', 'ê', 'ç', 'ß', 'ù', 'ì', 'è']\n"
     ]
    }
   ],
   "source": [
    "chars = [char  for name in f_df.second_names.tolist() for char in name]\n",
    "freq = nltk.FreqDist(chars)\n",
    "\n",
    "print(list(freq.keys()))"
   ]
  },
  {
   "cell_type": "code",
   "execution_count": 187,
   "metadata": {},
   "outputs": [],
   "source": [
    "f_df['len'] = f_df.second_names.str.len()"
   ]
  },
  {
   "cell_type": "code",
   "execution_count": 188,
   "metadata": {},
   "outputs": [
    {
     "data": {
      "text/plain": [
       "7.366622713982687"
      ]
     },
     "execution_count": 188,
     "metadata": {},
     "output_type": "execute_result"
    }
   ],
   "source": [
    "# средняя длинна\n",
    "f_df.len.mean()"
   ]
  },
  {
   "cell_type": "code",
   "execution_count": 189,
   "metadata": {},
   "outputs": [
    {
     "data": {
      "text/html": [
       "<div>\n",
       "<style scoped>\n",
       "    .dataframe tbody tr th:only-of-type {\n",
       "        vertical-align: middle;\n",
       "    }\n",
       "\n",
       "    .dataframe tbody tr th {\n",
       "        vertical-align: top;\n",
       "    }\n",
       "\n",
       "    .dataframe thead th {\n",
       "        text-align: right;\n",
       "    }\n",
       "</style>\n",
       "<table border=\"1\" class=\"dataframe\">\n",
       "  <thead>\n",
       "    <tr style=\"text-align: right;\">\n",
       "      <th>lang</th>\n",
       "      <th>Arabic</th>\n",
       "      <th>Chinese</th>\n",
       "      <th>Czech</th>\n",
       "      <th>Dutch</th>\n",
       "      <th>English</th>\n",
       "      <th>French</th>\n",
       "      <th>German</th>\n",
       "      <th>Greek</th>\n",
       "      <th>Irish</th>\n",
       "      <th>Italian</th>\n",
       "      <th>Japanese</th>\n",
       "      <th>Korean</th>\n",
       "      <th>Polish</th>\n",
       "      <th>Portuguese</th>\n",
       "      <th>Russian</th>\n",
       "      <th>Scottish</th>\n",
       "      <th>Spanish</th>\n",
       "      <th>Vietnamese</th>\n",
       "    </tr>\n",
       "  </thead>\n",
       "  <tbody>\n",
       "    <tr>\n",
       "      <th>len</th>\n",
       "      <td>5.592593</td>\n",
       "      <td>3.689498</td>\n",
       "      <td>6.598361</td>\n",
       "      <td>6.939929</td>\n",
       "      <td>6.431065</td>\n",
       "      <td>6.910506</td>\n",
       "      <td>6.753894</td>\n",
       "      <td>8.823834</td>\n",
       "      <td>7.05</td>\n",
       "      <td>7.036199</td>\n",
       "      <td>6.714431</td>\n",
       "      <td>3.450549</td>\n",
       "      <td>7.253623</td>\n",
       "      <td>6.418919</td>\n",
       "      <td>8.096382</td>\n",
       "      <td>6.5</td>\n",
       "      <td>6.576471</td>\n",
       "      <td>3.71875</td>\n",
       "    </tr>\n",
       "  </tbody>\n",
       "</table>\n",
       "</div>"
      ],
      "text/plain": [
       "lang    Arabic   Chinese     Czech     Dutch   English    French    German  \\\n",
       "len   5.592593  3.689498  6.598361  6.939929  6.431065  6.910506  6.753894   \n",
       "\n",
       "lang     Greek  Irish   Italian  Japanese    Korean    Polish  Portuguese  \\\n",
       "len   8.823834   7.05  7.036199  6.714431  3.450549  7.253623    6.418919   \n",
       "\n",
       "lang   Russian  Scottish   Spanish  Vietnamese  \n",
       "len   8.096382       6.5  6.576471     3.71875  "
      ]
     },
     "execution_count": 189,
     "metadata": {},
     "output_type": "execute_result"
    }
   ],
   "source": [
    "# средняя длинна по языку\n",
    "f_df[['lang','len']].groupby(by=['lang']).mean().T"
   ]
  },
  {
   "cell_type": "code",
   "execution_count": 190,
   "metadata": {},
   "outputs": [],
   "source": [
    "X_train, X_test, y_train, y_test = train_test_split(f_df.second_names, f_df.lang,\n",
    "                                                    test_size=0.3,\n",
    "                                                    stratify=f_df.lang,\n",
    "                                                    random_state=42)"
   ]
  },
  {
   "cell_type": "markdown",
   "metadata": {},
   "source": [
    "##  Часть 2. Базовый метод классификации [20 баллов]\n",
    "\n",
    "\n",
    "\n",
    "Используйте метод наивного Байеса, логистическую регрессию или любой другой метод для классификации фамилий: в качестве признаков используйте символьные $n$-граммы. Сравните результаты, получаемые при разных $n=2,3,4$ по $F$-мере и аккуратности. В каких случаях метод ошибается?\n",
    "\n",
    "Для генерации $n$-грамм используйте:"
   ]
  },
  {
   "cell_type": "code",
   "execution_count": 191,
   "metadata": {},
   "outputs": [],
   "source": [
    "from nltk.util import ngrams\n",
    "from sklearn.feature_extraction.text import CountVectorizer, TfidfTransformer\n",
    "from sklearn.naive_bayes import MultinomialNB\n",
    "from sklearn.metrics import accuracy_score, f1_score, classification_report, confusion_matrix"
   ]
  },
  {
   "cell_type": "code",
   "execution_count": 197,
   "metadata": {},
   "outputs": [],
   "source": [
    "from sklearn.pipeline import Pipeline\n",
    "from sklearn.preprocessing import LabelEncoder\n",
    "from sklearn.ensemble import RandomForestClassifier\n",
    "from sklearn.linear_model import LogisticRegression\n",
    "from sklearn.model_selection import train_test_split\n",
    "import seaborn as sns"
   ]
  },
  {
   "cell_type": "code",
   "execution_count": 192,
   "metadata": {},
   "outputs": [],
   "source": [
    "vec = CountVectorizer(analyzer='char', ngram_range=(2,2))\n",
    "X_train_n_2 = vec.fit_transform(X_train)\n",
    "X_test_n_2 = vec.transform(X_test)\n",
    "\n",
    "vec = CountVectorizer(analyzer='char', ngram_range=(3,3))\n",
    "X_train_n_3 = vec.fit_transform(X_train)\n",
    "X_test_n_3 = vec.transform(X_test)\n",
    "\n",
    "vec = CountVectorizer(analyzer='char', ngram_range=(4,4))\n",
    "X_train_n_4 = vec.fit_transform(X_train)\n",
    "X_test_n_4 = vec.transform(X_test)"
   ]
  },
  {
   "cell_type": "code",
   "execution_count": 200,
   "metadata": {},
   "outputs": [],
   "source": [
    "def print_score(model, X_tr, X_te, y_tr, y_te, n):\n",
    "    model.fit(X_tr, y_tr)\n",
    "    predict_train = model.predict(X_tr)\n",
    "    predict_test = model.predict(X_te)\n",
    "    print('{}, ngram = {}'.format(model.__class__.__name__, n))\n",
    "    print('Accuracy train: {0:6.4f}'.format(accuracy_score(y_tr, predict_train)))\n",
    "    print('Accuracy test: {0:6.4f}'.format(accuracy_score(y_te, predict_test)))\n",
    "    print('F1 train: {0:6.4f}'.format(f1_score(y_tr, predict_train, average='weighted')))\n",
    "    print('F1 test: {0:6.4f}'.format(f1_score(y_te, predict_test, average='weighted')))\n",
    "    print(classification_report(y_te, predict_test))\n",
    "    return predict_test"
   ]
  },
  {
   "cell_type": "code",
   "execution_count": 202,
   "metadata": {},
   "outputs": [
    {
     "name": "stdout",
     "output_type": "stream",
     "text": [
      "MultinomialNB, ngram = 2\n",
      "Accuracy train: 0.7775\n",
      "Accuracy test: 0.7502\n",
      "F1 train: 0.7541\n",
      "F1 test: 0.7187\n",
      "             precision    recall  f1-score   support\n",
      "\n",
      "     Arabic       0.00      0.00      0.00        32\n",
      "    Chinese       0.80      0.18      0.30        66\n",
      "      Czech       0.50      0.13      0.21       147\n",
      "      Dutch       0.66      0.22      0.33        85\n",
      "    English       0.63      0.79      0.70      1014\n",
      "     French       0.47      0.12      0.19        77\n",
      "     German       0.54      0.43      0.48       193\n",
      "      Greek       0.67      0.31      0.42        58\n",
      "      Irish       0.71      0.38      0.50        66\n",
      "    Italian       0.53      0.47      0.50       199\n",
      "   Japanese       0.72      0.75      0.73       295\n",
      "     Korean       0.00      0.00      0.00        27\n",
      "     Polish       0.67      0.34      0.45        41\n",
      " Portuguese       0.50      0.05      0.08        22\n",
      "    Russian       0.83      0.93      0.88      2786\n",
      "   Scottish       0.00      0.00      0.00        29\n",
      "    Spanish       0.48      0.14      0.22        77\n",
      " Vietnamese       1.00      0.05      0.10        19\n",
      "\n",
      "avg / total       0.72      0.75      0.72      5233\n",
      "\n"
     ]
    },
    {
     "name": "stderr",
     "output_type": "stream",
     "text": [
      "/home/anton/anaconda3/lib/python3.6/site-packages/sklearn/metrics/classification.py:1135: UndefinedMetricWarning: F-score is ill-defined and being set to 0.0 in labels with no predicted samples.\n",
      "  'precision', 'predicted', average, warn_for)\n",
      "/home/anton/anaconda3/lib/python3.6/site-packages/sklearn/metrics/classification.py:1135: UndefinedMetricWarning: Precision and F-score are ill-defined and being set to 0.0 in labels with no predicted samples.\n",
      "  'precision', 'predicted', average, warn_for)\n"
     ]
    }
   ],
   "source": [
    "n_2_pred = print_score(MultinomialNB(), X_train_n_2, X_test_n_2, y_train, y_test,2)"
   ]
  },
  {
   "cell_type": "code",
   "execution_count": 203,
   "metadata": {},
   "outputs": [
    {
     "name": "stdout",
     "output_type": "stream",
     "text": [
      "MultinomialNB, ngram = 3\n",
      "Accuracy train: 0.8296\n",
      "Accuracy test: 0.7525\n",
      "F1 train: 0.8101\n",
      "F1 test: 0.7136\n",
      "             precision    recall  f1-score   support\n",
      "\n",
      "     Arabic       1.00      0.03      0.06        32\n",
      "    Chinese       0.89      0.12      0.21        66\n",
      "      Czech       0.57      0.11      0.18       147\n",
      "      Dutch       0.80      0.28      0.42        85\n",
      "    English       0.63      0.82      0.71      1014\n",
      "     French       0.69      0.12      0.20        77\n",
      "     German       0.51      0.38      0.44       193\n",
      "      Greek       0.78      0.24      0.37        58\n",
      "      Irish       0.85      0.17      0.28        66\n",
      "    Italian       0.56      0.40      0.46       199\n",
      "   Japanese       0.77      0.74      0.76       295\n",
      "     Korean       0.00      0.00      0.00        27\n",
      "     Polish       0.72      0.32      0.44        41\n",
      " Portuguese       1.00      0.05      0.09        22\n",
      "    Russian       0.82      0.95      0.88      2786\n",
      "   Scottish       0.00      0.00      0.00        29\n",
      "    Spanish       0.56      0.06      0.12        77\n",
      " Vietnamese       0.00      0.00      0.00        19\n",
      "\n",
      "avg / total       0.74      0.75      0.71      5233\n",
      "\n"
     ]
    },
    {
     "name": "stderr",
     "output_type": "stream",
     "text": [
      "/home/anton/anaconda3/lib/python3.6/site-packages/sklearn/metrics/classification.py:1135: UndefinedMetricWarning: F-score is ill-defined and being set to 0.0 in labels with no predicted samples.\n",
      "  'precision', 'predicted', average, warn_for)\n",
      "/home/anton/anaconda3/lib/python3.6/site-packages/sklearn/metrics/classification.py:1135: UndefinedMetricWarning: Precision and F-score are ill-defined and being set to 0.0 in labels with no predicted samples.\n",
      "  'precision', 'predicted', average, warn_for)\n"
     ]
    }
   ],
   "source": [
    "n_3_pred = print_score(MultinomialNB(), X_train_n_3, X_test_n_3, y_train, y_test,3)"
   ]
  },
  {
   "cell_type": "code",
   "execution_count": 204,
   "metadata": {},
   "outputs": [
    {
     "name": "stdout",
     "output_type": "stream",
     "text": [
      "MultinomialNB, ngram = 4\n",
      "Accuracy train: 0.8649\n",
      "Accuracy test: 0.7265\n",
      "F1 train: 0.8440\n",
      "F1 test: 0.6725\n",
      "             precision    recall  f1-score   support\n",
      "\n",
      "     Arabic       0.00      0.00      0.00        32\n",
      "    Chinese       0.00      0.00      0.00        66\n",
      "      Czech       0.89      0.05      0.10       147\n",
      "      Dutch       0.92      0.26      0.40        85\n",
      "    English       0.65      0.74      0.69      1014\n",
      "     French       1.00      0.08      0.14        77\n",
      "     German       0.68      0.27      0.39       193\n",
      "      Greek       1.00      0.21      0.34        58\n",
      "      Irish       0.67      0.09      0.16        66\n",
      "    Italian       0.72      0.29      0.42       199\n",
      "   Japanese       0.88      0.63      0.74       295\n",
      "     Korean       0.00      0.00      0.00        27\n",
      "     Polish       1.00      0.17      0.29        41\n",
      " Portuguese       0.50      0.05      0.08        22\n",
      "    Russian       0.74      0.97      0.84      2786\n",
      "   Scottish       0.00      0.00      0.00        29\n",
      "    Spanish       0.50      0.03      0.05        77\n",
      " Vietnamese       0.00      0.00      0.00        19\n",
      "\n",
      "avg / total       0.71      0.73      0.67      5233\n",
      "\n"
     ]
    },
    {
     "name": "stderr",
     "output_type": "stream",
     "text": [
      "/home/anton/anaconda3/lib/python3.6/site-packages/sklearn/metrics/classification.py:1135: UndefinedMetricWarning: F-score is ill-defined and being set to 0.0 in labels with no predicted samples.\n",
      "  'precision', 'predicted', average, warn_for)\n",
      "/home/anton/anaconda3/lib/python3.6/site-packages/sklearn/metrics/classification.py:1135: UndefinedMetricWarning: Precision and F-score are ill-defined and being set to 0.0 in labels with no predicted samples.\n",
      "  'precision', 'predicted', average, warn_for)\n"
     ]
    }
   ],
   "source": [
    "n_4_pred = print_score(MultinomialNB(), X_train_n_4, X_test_n_4, y_train, y_test,4)"
   ]
  },
  {
   "cell_type": "code",
   "execution_count": 208,
   "metadata": {},
   "outputs": [
    {
     "data": {
      "text/plain": [
       "<matplotlib.axes._subplots.AxesSubplot at 0x7f1a8cea94e0>"
      ]
     },
     "execution_count": 208,
     "metadata": {},
     "output_type": "execute_result"
    },
    {
     "data": {
      "image/png": "[encoded data removed]",
      "text/plain": [
       "<matplotlib.figure.Figure at 0x7f1a8d114a20>"
      ]
     },
     "metadata": {},
     "output_type": "display_data"
    }
   ],
   "source": [
    "sns.set(rc={'figure.figsize':(11.7,8.27)})\n",
    "sns.heatmap(data=confusion_matrix(y_test, n_2_pred),\n",
    "            annot=True,\n",
    "            xticklabels=df.columns,\n",
    "            yticklabels=df.columns)"
   ]
  },
  {
   "cell_type": "markdown",
   "metadata": {},
   "source": [
    "##  Часть 3. Нейронная сеть [35 баллов]\n",
    "\n",
    "\n",
    "Используйте  реккурентную нейронную сеть с  LSTM для решения задачи. В ней может быть несколько слоев с LSTM, несколько слоев c Bidirectional(LSTM).  У нейронной сети один выход, определяющий класс фамилии. \n",
    "\n",
    "Представление имени для классификации в этом случае: \n",
    "1 вариант: бинарная матрица размера (количество букв в корпусе $\\times$ максимальная длина имени). Обозначим его через $x$. Если первая буква имени a, то $x[1][1] = 1$, если вторая – b, то  $x[2][1] = 1$. То есть, используем one hot encoding для векторизации букв.  \n",
    "2 вариант: Embedding'и символов. \n",
    "\n",
    "Выберите тот вариант, который вам проще или интереснее реализовать :) \n",
    "\n",
    "Не забудьте про регуляризацию нейронной сети дропаутами. \n",
    "\n",
    "Сравните результаты классификации разными методами по accuracy, micro- и macro- F-measure, precision, recall. Какой метод лучше и почему?\n",
    "\n",
    "Сравните результаты, получаемые при разных значениях дропаута, разных числах узлов на слоях нейронной сети по $F$-мере и аккуратности. В каких случаях нейронная сеть ошибается?"
   ]
  },
  {
   "cell_type": "markdown",
   "metadata": {},
   "source": [
    "Если совсем не получается запрограммировать нейронную сеть самостоятельно, обратитесь к туториалу тут: https://github.com/divamgupta/lstm-gender-predictor"
   ]
  },
  {
   "cell_type": "markdown",
   "metadata": {},
   "source": [
    "##  Часть 4. Генерация фамилии [35 баллов]\n",
    "\n",
    "Используйте архитектуру нейронной сети из Части 3 для генерации имени. В этот момент можно забыть про разбиение коллекции на обучающее и тестовое множество. \n",
    "\n",
    "Рассмотрите два сценария генерация имени:\n",
    "* обучение нейронной сети по всей коллекции\n",
    "* обучение нейронной сети с обуславливанием на язык\n",
    "\n",
    "Для обуславливания на язык нужно изменить векторное представление фамилии. До этого момента мы разбивали фамилию на отдельные символы и находили векторное представление каждого символа. Теперь добавим в начало фамилии метку языка и будем ее считать первым символов фамилии. Так нейронная сеть научиться понимать, на каком языке написана фамилия. \n",
    "\n",
    "Пример: ```[rus bos i v a n o v eos pad pad pad]```\n",
    "\n",
    "Когда будем генерировать новую фамилию, будем начинать процесс генерации не с символа начала последовательности ```bos```, а с символа языка и символа начала последовательности ```rus bos```. \n",
    "\n",
    "Привидите несколько примеров удачно сгенерированных фамилий. "
   ]
  }
 ],
 "metadata": {
  "kernelspec": {
   "display_name": "Python 3",
   "language": "python",
   "name": "python3"
  },
  "language_info": {
   "codemirror_mode": {
    "name": "ipython",
    "version": 3
   },
   "file_extension": ".py",
   "mimetype": "text/x-python",
   "name": "python",
   "nbconvert_exporter": "python",
   "pygments_lexer": "ipython3",
   "version": "3.6.4"
  }
 },
 "nbformat": 4,
 "nbformat_minor": 2
}
